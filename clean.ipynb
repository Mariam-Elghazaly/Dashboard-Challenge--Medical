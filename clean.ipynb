{
  "nbformat": 4,
  "nbformat_minor": 0,
  "metadata": {
    "colab": {
      "provenance": [],
      "authorship_tag": "ABX9TyNX4sEYqWnBCc3mRNcGTpcL",
      "include_colab_link": true
    },
    "kernelspec": {
      "name": "python3",
      "display_name": "Python 3"
    },
    "language_info": {
      "name": "python"
    }
  },
  "cells": [
    {
      "cell_type": "markdown",
      "metadata": {
        "id": "view-in-github",
        "colab_type": "text"
      },
      "source": [
        "<a href=\"https://colab.research.google.com/github/Mariam-Elghazaly/Dashboard-Challenge--Medical/blob/main/clean.ipynb\" target=\"_parent\"><img src=\"https://colab.research.google.com/assets/colab-badge.svg\" alt=\"Open In Colab\"/></a>"
      ]
    },
    {
      "cell_type": "code",
      "execution_count": 197,
      "metadata": {
        "id": "ZblXr75HgMlr"
      },
      "outputs": [],
      "source": [
        "import pandas as pd\n",
        "import numpy as np\n",
        "import matplotlib.pyplot as plt\n",
        "import kagglehub\n",
        "import missingno\n",
        "\n",
        "\n"
      ]
    },
    {
      "cell_type": "code",
      "source": [
        "!pip install opendatasets"
      ],
      "metadata": {
        "colab": {
          "base_uri": "https://localhost:8080/"
        },
        "id": "l2pGUC2X5w2f",
        "outputId": "903869c4-04b6-4f47-9be7-71f596b00f9d"
      },
      "execution_count": 198,
      "outputs": [
        {
          "output_type": "stream",
          "name": "stdout",
          "text": [
            "Requirement already satisfied: opendatasets in /usr/local/lib/python3.11/dist-packages (0.1.22)\n",
            "Requirement already satisfied: tqdm in /usr/local/lib/python3.11/dist-packages (from opendatasets) (4.67.1)\n",
            "Requirement already satisfied: kaggle in /usr/local/lib/python3.11/dist-packages (from opendatasets) (1.7.4.5)\n",
            "Requirement already satisfied: click in /usr/local/lib/python3.11/dist-packages (from opendatasets) (8.2.1)\n",
            "Requirement already satisfied: bleach in /usr/local/lib/python3.11/dist-packages (from kaggle->opendatasets) (6.2.0)\n",
            "Requirement already satisfied: certifi>=14.05.14 in /usr/local/lib/python3.11/dist-packages (from kaggle->opendatasets) (2025.8.3)\n",
            "Requirement already satisfied: charset-normalizer in /usr/local/lib/python3.11/dist-packages (from kaggle->opendatasets) (3.4.3)\n",
            "Requirement already satisfied: idna in /usr/local/lib/python3.11/dist-packages (from kaggle->opendatasets) (3.10)\n",
            "Requirement already satisfied: protobuf in /usr/local/lib/python3.11/dist-packages (from kaggle->opendatasets) (5.29.5)\n",
            "Requirement already satisfied: python-dateutil>=2.5.3 in /usr/local/lib/python3.11/dist-packages (from kaggle->opendatasets) (2.9.0.post0)\n",
            "Requirement already satisfied: python-slugify in /usr/local/lib/python3.11/dist-packages (from kaggle->opendatasets) (8.0.4)\n",
            "Requirement already satisfied: requests in /usr/local/lib/python3.11/dist-packages (from kaggle->opendatasets) (2.32.3)\n",
            "Requirement already satisfied: setuptools>=21.0.0 in /usr/local/lib/python3.11/dist-packages (from kaggle->opendatasets) (75.2.0)\n",
            "Requirement already satisfied: six>=1.10 in /usr/local/lib/python3.11/dist-packages (from kaggle->opendatasets) (1.17.0)\n",
            "Requirement already satisfied: text-unidecode in /usr/local/lib/python3.11/dist-packages (from kaggle->opendatasets) (1.3)\n",
            "Requirement already satisfied: urllib3>=1.15.1 in /usr/local/lib/python3.11/dist-packages (from kaggle->opendatasets) (2.5.0)\n",
            "Requirement already satisfied: webencodings in /usr/local/lib/python3.11/dist-packages (from kaggle->opendatasets) (0.5.1)\n"
          ]
        }
      ]
    },
    {
      "cell_type": "code",
      "source": [
        "import opendatasets as od\n",
        "od.download(\"https://www.kaggle.com/datasets/joniarroba/noshowappointments?select=KaggleV2-May-2016.csv\")"
      ],
      "metadata": {
        "colab": {
          "base_uri": "https://localhost:8080/"
        },
        "id": "uk-nwP0y6rj-",
        "outputId": "765c7446-ff65-4fe2-fe88-8e289d4429ea"
      },
      "execution_count": 199,
      "outputs": [
        {
          "output_type": "stream",
          "name": "stdout",
          "text": [
            "Skipping, found downloaded files in \"./noshowappointments\" (use force=True to force download)\n"
          ]
        }
      ]
    },
    {
      "cell_type": "code",
      "source": [
        "data=pd.read_csv(\"/content/noshowappointments/KaggleV2-May-2016.csv\")\n",
        "\n",
        "data['AppointmentDay'].sample(10)"
      ],
      "metadata": {
        "colab": {
          "base_uri": "https://localhost:8080/",
          "height": 398
        },
        "id": "h26e9H2z7QMR",
        "outputId": "16c37e19-7b1b-4418-b9b0-5ef92e759191"
      },
      "execution_count": 200,
      "outputs": [
        {
          "output_type": "execute_result",
          "data": {
            "text/plain": [
              "19799     2016-05-17T00:00:00Z\n",
              "96524     2016-06-03T00:00:00Z\n",
              "59786     2016-05-24T00:00:00Z\n",
              "83895     2016-05-02T00:00:00Z\n",
              "102539    2016-06-02T00:00:00Z\n",
              "49373     2016-05-31T00:00:00Z\n",
              "92663     2016-06-01T00:00:00Z\n",
              "10207     2016-05-11T00:00:00Z\n",
              "38296     2016-05-10T00:00:00Z\n",
              "105147    2016-06-06T00:00:00Z\n",
              "Name: AppointmentDay, dtype: object"
            ],
            "text/html": [
              "<div>\n",
              "<style scoped>\n",
              "    .dataframe tbody tr th:only-of-type {\n",
              "        vertical-align: middle;\n",
              "    }\n",
              "\n",
              "    .dataframe tbody tr th {\n",
              "        vertical-align: top;\n",
              "    }\n",
              "\n",
              "    .dataframe thead th {\n",
              "        text-align: right;\n",
              "    }\n",
              "</style>\n",
              "<table border=\"1\" class=\"dataframe\">\n",
              "  <thead>\n",
              "    <tr style=\"text-align: right;\">\n",
              "      <th></th>\n",
              "      <th>AppointmentDay</th>\n",
              "    </tr>\n",
              "  </thead>\n",
              "  <tbody>\n",
              "    <tr>\n",
              "      <th>19799</th>\n",
              "      <td>2016-05-17T00:00:00Z</td>\n",
              "    </tr>\n",
              "    <tr>\n",
              "      <th>96524</th>\n",
              "      <td>2016-06-03T00:00:00Z</td>\n",
              "    </tr>\n",
              "    <tr>\n",
              "      <th>59786</th>\n",
              "      <td>2016-05-24T00:00:00Z</td>\n",
              "    </tr>\n",
              "    <tr>\n",
              "      <th>83895</th>\n",
              "      <td>2016-05-02T00:00:00Z</td>\n",
              "    </tr>\n",
              "    <tr>\n",
              "      <th>102539</th>\n",
              "      <td>2016-06-02T00:00:00Z</td>\n",
              "    </tr>\n",
              "    <tr>\n",
              "      <th>49373</th>\n",
              "      <td>2016-05-31T00:00:00Z</td>\n",
              "    </tr>\n",
              "    <tr>\n",
              "      <th>92663</th>\n",
              "      <td>2016-06-01T00:00:00Z</td>\n",
              "    </tr>\n",
              "    <tr>\n",
              "      <th>10207</th>\n",
              "      <td>2016-05-11T00:00:00Z</td>\n",
              "    </tr>\n",
              "    <tr>\n",
              "      <th>38296</th>\n",
              "      <td>2016-05-10T00:00:00Z</td>\n",
              "    </tr>\n",
              "    <tr>\n",
              "      <th>105147</th>\n",
              "      <td>2016-06-06T00:00:00Z</td>\n",
              "    </tr>\n",
              "  </tbody>\n",
              "</table>\n",
              "</div><br><label><b>dtype:</b> object</label>"
            ]
          },
          "metadata": {},
          "execution_count": 200
        }
      ]
    },
    {
      "cell_type": "code",
      "source": [
        "data.info()"
      ],
      "metadata": {
        "colab": {
          "base_uri": "https://localhost:8080/"
        },
        "id": "L8RLNyTKTwb0",
        "outputId": "94b1295d-8440-4c00-8253-5c0b031d6b4c"
      },
      "execution_count": 201,
      "outputs": [
        {
          "output_type": "stream",
          "name": "stdout",
          "text": [
            "<class 'pandas.core.frame.DataFrame'>\n",
            "RangeIndex: 110527 entries, 0 to 110526\n",
            "Data columns (total 14 columns):\n",
            " #   Column          Non-Null Count   Dtype  \n",
            "---  ------          --------------   -----  \n",
            " 0   PatientId       110527 non-null  float64\n",
            " 1   AppointmentID   110527 non-null  int64  \n",
            " 2   Gender          110527 non-null  object \n",
            " 3   ScheduledDay    110527 non-null  object \n",
            " 4   AppointmentDay  110527 non-null  object \n",
            " 5   Age             110527 non-null  int64  \n",
            " 6   Neighbourhood   110527 non-null  object \n",
            " 7   Scholarship     110527 non-null  int64  \n",
            " 8   Hipertension    110527 non-null  int64  \n",
            " 9   Diabetes        110527 non-null  int64  \n",
            " 10  Alcoholism      110527 non-null  int64  \n",
            " 11  Handcap         110527 non-null  int64  \n",
            " 12  SMS_received    110527 non-null  int64  \n",
            " 13  No-show         110527 non-null  object \n",
            "dtypes: float64(1), int64(8), object(5)\n",
            "memory usage: 11.8+ MB\n"
          ]
        }
      ]
    },
    {
      "cell_type": "code",
      "source": [
        "missingno.matrix(data, labels= True, fontsize= 10)"
      ],
      "metadata": {
        "colab": {
          "base_uri": "https://localhost:8080/",
          "height": 629
        },
        "id": "okVr7gm-bcGp",
        "outputId": "24c2e0c3-bb63-4525-8b3b-5bff1b537c11"
      },
      "execution_count": 202,
      "outputs": [
        {
          "output_type": "execute_result",
          "data": {
            "text/plain": [
              "<Axes: >"
            ]
          },
          "metadata": {},
          "execution_count": 202
        },
        {
          "output_type": "display_data",
          "data": {
            "text/plain": [
              "<Figure size 2500x1000 with 2 Axes>"
            ],
            "image/png": "[encoded data removed]"
          },
          "metadata": {}
        }
      ]
    },
    {
      "cell_type": "code",
      "source": [
        "data.isna().sum()\n",
        "data.nunique()\n"
      ],
      "metadata": {
        "colab": {
          "base_uri": "https://localhost:8080/",
          "height": 523
        },
        "id": "H_jKHvrET124",
        "outputId": "ed4361f8-2c0f-48a0-bc1f-497a385eade3"
      },
      "execution_count": 203,
      "outputs": [
        {
          "output_type": "execute_result",
          "data": {
            "text/plain": [
              "PatientId          62299\n",
              "AppointmentID     110527\n",
              "Gender                 2\n",
              "ScheduledDay      103549\n",
              "AppointmentDay        27\n",
              "Age                  104\n",
              "Neighbourhood         81\n",
              "Scholarship            2\n",
              "Hipertension           2\n",
              "Diabetes               2\n",
              "Alcoholism             2\n",
              "Handcap                5\n",
              "SMS_received           2\n",
              "No-show                2\n",
              "dtype: int64"
            ],
            "text/html": [
              "<div>\n",
              "<style scoped>\n",
              "    .dataframe tbody tr th:only-of-type {\n",
              "        vertical-align: middle;\n",
              "    }\n",
              "\n",
              "    .dataframe tbody tr th {\n",
              "        vertical-align: top;\n",
              "    }\n",
              "\n",
              "    .dataframe thead th {\n",
              "        text-align: right;\n",
              "    }\n",
              "</style>\n",
              "<table border=\"1\" class=\"dataframe\">\n",
              "  <thead>\n",
              "    <tr style=\"text-align: right;\">\n",
              "      <th></th>\n",
              "      <th>0</th>\n",
              "    </tr>\n",
              "  </thead>\n",
              "  <tbody>\n",
              "    <tr>\n",
              "      <th>PatientId</th>\n",
              "      <td>62299</td>\n",
              "    </tr>\n",
              "    <tr>\n",
              "      <th>AppointmentID</th>\n",
              "      <td>110527</td>\n",
              "    </tr>\n",
              "    <tr>\n",
              "      <th>Gender</th>\n",
              "      <td>2</td>\n",
              "    </tr>\n",
              "    <tr>\n",
              "      <th>ScheduledDay</th>\n",
              "      <td>103549</td>\n",
              "    </tr>\n",
              "    <tr>\n",
              "      <th>AppointmentDay</th>\n",
              "      <td>27</td>\n",
              "    </tr>\n",
              "    <tr>\n",
              "      <th>Age</th>\n",
              "      <td>104</td>\n",
              "    </tr>\n",
              "    <tr>\n",
              "      <th>Neighbourhood</th>\n",
              "      <td>81</td>\n",
              "    </tr>\n",
              "    <tr>\n",
              "      <th>Scholarship</th>\n",
              "      <td>2</td>\n",
              "    </tr>\n",
              "    <tr>\n",
              "      <th>Hipertension</th>\n",
              "      <td>2</td>\n",
              "    </tr>\n",
              "    <tr>\n",
              "      <th>Diabetes</th>\n",
              "      <td>2</td>\n",
              "    </tr>\n",
              "    <tr>\n",
              "      <th>Alcoholism</th>\n",
              "      <td>2</td>\n",
              "    </tr>\n",
              "    <tr>\n",
              "      <th>Handcap</th>\n",
              "      <td>5</td>\n",
              "    </tr>\n",
              "    <tr>\n",
              "      <th>SMS_received</th>\n",
              "      <td>2</td>\n",
              "    </tr>\n",
              "    <tr>\n",
              "      <th>No-show</th>\n",
              "      <td>2</td>\n",
              "    </tr>\n",
              "  </tbody>\n",
              "</table>\n",
              "</div><br><label><b>dtype:</b> int64</label>"
            ]
          },
          "metadata": {},
          "execution_count": 203
        }
      ]
    },
    {
      "cell_type": "code",
      "source": [
        "print(data['PatientId'].duplicated().sum())"
      ],
      "metadata": {
        "colab": {
          "base_uri": "https://localhost:8080/"
        },
        "id": "VRKh2PUVVZLq",
        "outputId": "6ffd844a-1ac7-4c89-d906-9ac0ca1220e5"
      },
      "execution_count": 204,
      "outputs": [
        {
          "output_type": "stream",
          "name": "stdout",
          "text": [
            "48228\n"
          ]
        }
      ]
    },
    {
      "cell_type": "code",
      "source": [
        "data['PatientId'].value_counts()"
      ],
      "metadata": {
        "colab": {
          "base_uri": "https://localhost:8080/",
          "height": 490
        },
        "id": "sPg4Z1GNafL9",
        "outputId": "987e8367-673c-431e-87c3-df17c9c05de6"
      },
      "execution_count": 205,
      "outputs": [
        {
          "output_type": "execute_result",
          "data": {
            "text/plain": [
              "PatientId\n",
              "8.221459e+14    88\n",
              "9.963767e+10    84\n",
              "2.688613e+13    70\n",
              "3.353478e+13    65\n",
              "8.713749e+14    62\n",
              "                ..\n",
              "7.345362e+14     1\n",
              "7.812456e+13     1\n",
              "5.639473e+13     1\n",
              "7.336882e+14     1\n",
              "8.841186e+12     1\n",
              "Name: count, Length: 62299, dtype: int64"
            ],
            "text/html": [
              "<div>\n",
              "<style scoped>\n",
              "    .dataframe tbody tr th:only-of-type {\n",
              "        vertical-align: middle;\n",
              "    }\n",
              "\n",
              "    .dataframe tbody tr th {\n",
              "        vertical-align: top;\n",
              "    }\n",
              "\n",
              "    .dataframe thead th {\n",
              "        text-align: right;\n",
              "    }\n",
              "</style>\n",
              "<table border=\"1\" class=\"dataframe\">\n",
              "  <thead>\n",
              "    <tr style=\"text-align: right;\">\n",
              "      <th></th>\n",
              "      <th>count</th>\n",
              "    </tr>\n",
              "    <tr>\n",
              "      <th>PatientId</th>\n",
              "      <th></th>\n",
              "    </tr>\n",
              "  </thead>\n",
              "  <tbody>\n",
              "    <tr>\n",
              "      <th>8.221459e+14</th>\n",
              "      <td>88</td>\n",
              "    </tr>\n",
              "    <tr>\n",
              "      <th>9.963767e+10</th>\n",
              "      <td>84</td>\n",
              "    </tr>\n",
              "    <tr>\n",
              "      <th>2.688613e+13</th>\n",
              "      <td>70</td>\n",
              "    </tr>\n",
              "    <tr>\n",
              "      <th>3.353478e+13</th>\n",
              "      <td>65</td>\n",
              "    </tr>\n",
              "    <tr>\n",
              "      <th>8.713749e+14</th>\n",
              "      <td>62</td>\n",
              "    </tr>\n",
              "    <tr>\n",
              "      <th>...</th>\n",
              "      <td>...</td>\n",
              "    </tr>\n",
              "    <tr>\n",
              "      <th>7.345362e+14</th>\n",
              "      <td>1</td>\n",
              "    </tr>\n",
              "    <tr>\n",
              "      <th>7.812456e+13</th>\n",
              "      <td>1</td>\n",
              "    </tr>\n",
              "    <tr>\n",
              "      <th>5.639473e+13</th>\n",
              "      <td>1</td>\n",
              "    </tr>\n",
              "    <tr>\n",
              "      <th>7.336882e+14</th>\n",
              "      <td>1</td>\n",
              "    </tr>\n",
              "    <tr>\n",
              "      <th>8.841186e+12</th>\n",
              "      <td>1</td>\n",
              "    </tr>\n",
              "  </tbody>\n",
              "</table>\n",
              "<p>62299 rows × 1 columns</p>\n",
              "</div><br><label><b>dtype:</b> int64</label>"
            ]
          },
          "metadata": {},
          "execution_count": 205
        }
      ]
    },
    {
      "cell_type": "code",
      "source": [
        "data_new= data.copy()"
      ],
      "metadata": {
        "id": "ddK66Dg2cF0J"
      },
      "execution_count": 206,
      "outputs": []
    },
    {
      "cell_type": "code",
      "source": [
        "visit_counts = data['PatientId'].value_counts()\n",
        "\n",
        "# Map counts to a new column\n",
        "data['No.of_Visitings'] = data['PatientId'].map(visit_counts)\n"
      ],
      "metadata": {
        "id": "2DfEPjBLbldX"
      },
      "execution_count": 207,
      "outputs": []
    },
    {
      "cell_type": "code",
      "source": [
        "data['No.of_Visitings'].sum()"
      ],
      "metadata": {
        "colab": {
          "base_uri": "https://localhost:8080/"
        },
        "id": "-2u0PNaPcM2e",
        "outputId": "3649a322-52ff-4ac4-dcb8-e23d1c232da5"
      },
      "execution_count": 208,
      "outputs": [
        {
          "output_type": "execute_result",
          "data": {
            "text/plain": [
              "np.int64(391335)"
            ]
          },
          "metadata": {},
          "execution_count": 208
        }
      ]
    },
    {
      "cell_type": "code",
      "source": [
        "data_new=data.copy()"
      ],
      "metadata": {
        "id": "4KCqEHoLdyJu"
      },
      "execution_count": 209,
      "outputs": []
    },
    {
      "cell_type": "code",
      "source": [
        "data['No.of_Visitings'] = data.groupby('PatientId')['No.of_Visitings'].transform(\n",
        "    lambda x: [x.iloc[0]] + [None]*(len(x)-1)\n",
        ")\n"
      ],
      "metadata": {
        "id": "hd7Dpn7Pd-ZI"
      },
      "execution_count": 210,
      "outputs": []
    },
    {
      "cell_type": "code",
      "source": [
        "data['No.of_Visitings'].sum()\n",
        "data['No.of_Visitings']=data['No.of_Visitings'].fillna(0)\n",
        "\n",
        "\n",
        "\n",
        "\n"
      ],
      "metadata": {
        "id": "oMTWdGyWeMQz"
      },
      "execution_count": 211,
      "outputs": []
    },
    {
      "cell_type": "code",
      "source": [
        "data[\"No.of_Visitings\"] = data[\"No.of_Visitings\"].astype(int)\n",
        "data[\"No.of_Visitings\"].sum()\n"
      ],
      "metadata": {
        "colab": {
          "base_uri": "https://localhost:8080/"
        },
        "id": "JCmHMqLMndPC",
        "outputId": "a43c5e6d-bc41-4d9e-c29f-457c74f0fe79"
      },
      "execution_count": 212,
      "outputs": [
        {
          "output_type": "execute_result",
          "data": {
            "text/plain": [
              "np.int64(110527)"
            ]
          },
          "metadata": {},
          "execution_count": 212
        }
      ]
    },
    {
      "cell_type": "code",
      "source": [
        "missingno.matrix(data, labels= True, fontsize= 10)"
      ],
      "metadata": {
        "colab": {
          "base_uri": "https://localhost:8080/",
          "height": 629
        },
        "id": "8kxntSk_nl1d",
        "outputId": "dc30345e-fd32-464c-dcaf-3def1068af92"
      },
      "execution_count": 213,
      "outputs": [
        {
          "output_type": "execute_result",
          "data": {
            "text/plain": [
              "<Axes: >"
            ]
          },
          "metadata": {},
          "execution_count": 213
        },
        {
          "output_type": "display_data",
          "data": {
            "text/plain": [
              "<Figure size 2500x1000 with 2 Axes>"
            ],
            "image/png": "[encoded data removed]"
          },
          "metadata": {}
        }
      ]
    },
    {
      "cell_type": "markdown",
      "source": [],
      "metadata": {
        "id": "vYKLgDlfe4Ai"
      }
    },
    {
      "cell_type": "markdown",
      "source": [
        "- After i made sure that my data has:\n",
        "*   No Nulls\n",
        "\n",
        "# I will check logic\n",
        "\n"
      ],
      "metadata": {
        "id": "5n4jq2psk9Fh"
      }
    },
    {
      "cell_type": "markdown",
      "source": [
        "1-Convert to string to avoid scientific notation & precision loss:"
      ],
      "metadata": {
        "id": "qhRa_9yboXvv"
      }
    },
    {
      "cell_type": "code",
      "source": [
        "data[['PatientId','AppointmentID']]= data[['PatientId','AppointmentID']].astype(str)\n",
        "data.info()"
      ],
      "metadata": {
        "colab": {
          "base_uri": "https://localhost:8080/"
        },
        "id": "L3xoTx2KocCc",
        "outputId": "4c2a41ce-3106-488e-b411-8eabacc7b41b"
      },
      "execution_count": 214,
      "outputs": [
        {
          "output_type": "stream",
          "name": "stdout",
          "text": [
            "<class 'pandas.core.frame.DataFrame'>\n",
            "RangeIndex: 110527 entries, 0 to 110526\n",
            "Data columns (total 15 columns):\n",
            " #   Column           Non-Null Count   Dtype \n",
            "---  ------           --------------   ----- \n",
            " 0   PatientId        110527 non-null  object\n",
            " 1   AppointmentID    110527 non-null  object\n",
            " 2   Gender           110527 non-null  object\n",
            " 3   ScheduledDay     110527 non-null  object\n",
            " 4   AppointmentDay   110527 non-null  object\n",
            " 5   Age              110527 non-null  int64 \n",
            " 6   Neighbourhood    110527 non-null  object\n",
            " 7   Scholarship      110527 non-null  int64 \n",
            " 8   Hipertension     110527 non-null  int64 \n",
            " 9   Diabetes         110527 non-null  int64 \n",
            " 10  Alcoholism       110527 non-null  int64 \n",
            " 11  Handcap          110527 non-null  int64 \n",
            " 12  SMS_received     110527 non-null  int64 \n",
            " 13  No-show          110527 non-null  object\n",
            " 14  No.of_Visitings  110527 non-null  int64 \n",
            "dtypes: int64(8), object(7)\n",
            "memory usage: 12.6+ MB\n"
          ]
        }
      ]
    },
    {
      "cell_type": "markdown",
      "source": [
        "2-Convert to datetime"
      ],
      "metadata": {
        "id": "qOGu8Savpi14"
      }
    },
    {
      "cell_type": "code",
      "source": [
        "data['ScheduledDay'] = pd.to_datetime(data['ScheduledDay'], utc=True)\n",
        "data['AppointmentDay'] = pd.to_datetime(data['AppointmentDay'], utc=True)\n",
        "\n",
        "\n"
      ],
      "metadata": {
        "id": "hS2zyU_6pmN1"
      },
      "execution_count": 216,
      "outputs": []
    },
    {
      "cell_type": "code",
      "source": [
        "data['ScheduledDay_date'] = data['ScheduledDay'].dt.date\n",
        "data['AppointmentDay_date'] = data['AppointmentDay'].dt.date"
      ],
      "metadata": {
        "id": "vNGLOodqyn28"
      },
      "execution_count": 217,
      "outputs": []
    },
    {
      "cell_type": "code",
      "source": [
        "data[(data['ScheduledDay_date']> data['AppointmentDay_date'])][['PatientId','ScheduledDay','AppointmentDay','No-show']]"
      ],
      "metadata": {
        "colab": {
          "base_uri": "https://localhost:8080/",
          "height": 206
        },
        "id": "XmesZUM-y2Dx",
        "outputId": "35d06d87-a903-4cad-94b2-c00004c857f6"
      },
      "execution_count": 218,
      "outputs": [
        {
          "output_type": "execute_result",
          "data": {
            "text/plain": [
              "               PatientId              ScheduledDay            AppointmentDay  \\\n",
              "27033    7839272661752.0 2016-05-10 10:51:53+00:00 2016-05-09 00:00:00+00:00   \n",
              "55226    7896293967868.0 2016-05-18 14:50:41+00:00 2016-05-17 00:00:00+00:00   \n",
              "64175   24252258389979.0 2016-05-05 13:43:58+00:00 2016-05-04 00:00:00+00:00   \n",
              "71533  998231581612122.0 2016-05-11 13:49:20+00:00 2016-05-05 00:00:00+00:00   \n",
              "72362    3787481966821.0 2016-05-04 06:50:57+00:00 2016-05-03 00:00:00+00:00   \n",
              "\n",
              "      No-show  \n",
              "27033     Yes  \n",
              "55226     Yes  \n",
              "64175     Yes  \n",
              "71533     Yes  \n",
              "72362     Yes  "
            ],
            "text/html": [
              "\n",
              "  <div id=\"df-bbb46a8e-6e9e-4321-813e-2ce792bcc6be\" class=\"colab-df-container\">\n",
              "    <div>\n",
              "<style scoped>\n",
              "    .dataframe tbody tr th:only-of-type {\n",
              "        vertical-align: middle;\n",
              "    }\n",
              "\n",
              "    .dataframe tbody tr th {\n",
              "        vertical-align: top;\n",
              "    }\n",
              "\n",
              "    .dataframe thead th {\n",
              "        text-align: right;\n",
              "    }\n",
              "</style>\n",
              "<table border=\"1\" class=\"dataframe\">\n",
              "  <thead>\n",
              "    <tr style=\"text-align: right;\">\n",
              "      <th></th>\n",
              "      <th>PatientId</th>\n",
              "      <th>ScheduledDay</th>\n",
              "      <th>AppointmentDay</th>\n",
              "      <th>No-show</th>\n",
              "    </tr>\n",
              "  </thead>\n",
              "  <tbody>\n",
              "    <tr>\n",
              "      <th>27033</th>\n",
              "      <td>7839272661752.0</td>\n",
              "      <td>2016-05-10 10:51:53+00:00</td>\n",
              "      <td>2016-05-09 00:00:00+00:00</td>\n",
              "      <td>Yes</td>\n",
              "    </tr>\n",
              "    <tr>\n",
              "      <th>55226</th>\n",
              "      <td>7896293967868.0</td>\n",
              "      <td>2016-05-18 14:50:41+00:00</td>\n",
              "      <td>2016-05-17 00:00:00+00:00</td>\n",
              "      <td>Yes</td>\n",
              "    </tr>\n",
              "    <tr>\n",
              "      <th>64175</th>\n",
              "      <td>24252258389979.0</td>\n",
              "      <td>2016-05-05 13:43:58+00:00</td>\n",
              "      <td>2016-05-04 00:00:00+00:00</td>\n",
              "      <td>Yes</td>\n",
              "    </tr>\n",
              "    <tr>\n",
              "      <th>71533</th>\n",
              "      <td>998231581612122.0</td>\n",
              "      <td>2016-05-11 13:49:20+00:00</td>\n",
              "      <td>2016-05-05 00:00:00+00:00</td>\n",
              "      <td>Yes</td>\n",
              "    </tr>\n",
              "    <tr>\n",
              "      <th>72362</th>\n",
              "      <td>3787481966821.0</td>\n",
              "      <td>2016-05-04 06:50:57+00:00</td>\n",
              "      <td>2016-05-03 00:00:00+00:00</td>\n",
              "      <td>Yes</td>\n",
              "    </tr>\n",
              "  </tbody>\n",
              "</table>\n",
              "</div>\n",
              "    <div class=\"colab-df-buttons\">\n",
              "\n",
              "  <div class=\"colab-df-container\">\n",
              "    <button class=\"colab-df-convert\" onclick=\"convertToInteractive('df-bbb46a8e-6e9e-4321-813e-2ce792bcc6be')\"\n",
              "            title=\"Convert this dataframe to an interactive table.\"\n",
              "            style=\"display:none;\">\n",
              "\n",
              "  <svg xmlns=\"http://www.w3.org/2000/svg\" height=\"24px\" viewBox=\"0 -960 960 960\">\n",
              "    <path d=\"M120-120v-720h720v720H120Zm60-500h600v-160H180v160Zm220 220h160v-160H400v160Zm0 220h160v-160H400v160ZM180-400h160v-160H180v160Zm440 0h160v-160H620v160ZM180-180h160v-160H180v160Zm440 0h160v-160H620v160Z\"/>\n",
              "  </svg>\n",
              "    </button>\n",
              "\n",
              "  <style>\n",
              "    .colab-df-container {\n",
              "      display:flex;\n",
              "      gap: 12px;\n",
              "    }\n",
              "\n",
              "    .colab-df-convert {\n",
              "      background-color: #E8F0FE;\n",
              "      border: none;\n",
              "      border-radius: 50%;\n",
              "      cursor: pointer;\n",
              "      display: none;\n",
              "      fill: #1967D2;\n",
              "      height: 32px;\n",
              "      padding: 0 0 0 0;\n",
              "      width: 32px;\n",
              "    }\n",
              "\n",
              "    .colab-df-convert:hover {\n",
              "      background-color: #E2EBFA;\n",
              "      box-shadow: 0px 1px 2px rgba(60, 64, 67, 0.3), 0px 1px 3px 1px rgba(60, 64, 67, 0.15);\n",
              "      fill: #174EA6;\n",
              "    }\n",
              "\n",
              "    .colab-df-buttons div {\n",
              "      margin-bottom: 4px;\n",
              "    }\n",
              "\n",
              "    [theme=dark] .colab-df-convert {\n",
              "      background-color: #3B4455;\n",
              "      fill: #D2E3FC;\n",
              "    }\n",
              "\n",
              "    [theme=dark] .colab-df-convert:hover {\n",
              "      background-color: #434B5C;\n",
              "      box-shadow: 0px 1px 3px 1px rgba(0, 0, 0, 0.15);\n",
              "      filter: drop-shadow(0px 1px 2px rgba(0, 0, 0, 0.3));\n",
              "      fill: #FFFFFF;\n",
              "    }\n",
              "  </style>\n",
              "\n",
              "    <script>\n",
              "      const buttonEl =\n",
              "        document.querySelector('#df-bbb46a8e-6e9e-4321-813e-2ce792bcc6be button.colab-df-convert');\n",
              "      buttonEl.style.display =\n",
              "        google.colab.kernel.accessAllowed ? 'block' : 'none';\n",
              "\n",
              "      async function convertToInteractive(key) {\n",
              "        const element = document.querySelector('#df-bbb46a8e-6e9e-4321-813e-2ce792bcc6be');\n",
              "        const dataTable =\n",
              "          await google.colab.kernel.invokeFunction('convertToInteractive',\n",
              "                                                    [key], {});\n",
              "        if (!dataTable) return;\n",
              "\n",
              "        const docLinkHtml = 'Like what you see? Visit the ' +\n",
              "          '<a target=\"_blank\" href=https://colab.research.google.com/notebooks/data_table.ipynb>data table notebook</a>'\n",
              "          + ' to learn more about interactive tables.';\n",
              "        element.innerHTML = '';\n",
              "        dataTable['output_type'] = 'display_data';\n",
              "        await google.colab.output.renderOutput(dataTable, element);\n",
              "        const docLink = document.createElement('div');\n",
              "        docLink.innerHTML = docLinkHtml;\n",
              "        element.appendChild(docLink);\n",
              "      }\n",
              "    </script>\n",
              "  </div>\n",
              "\n",
              "\n",
              "    <div id=\"df-9ea56faa-385f-41e9-aec7-f0f6722686ca\">\n",
              "      <button class=\"colab-df-quickchart\" onclick=\"quickchart('df-9ea56faa-385f-41e9-aec7-f0f6722686ca')\"\n",
              "                title=\"Suggest charts\"\n",
              "                style=\"display:none;\">\n",
              "\n",
              "<svg xmlns=\"http://www.w3.org/2000/svg\" height=\"24px\"viewBox=\"0 0 24 24\"\n",
              "     width=\"24px\">\n",
              "    <g>\n",
              "        <path d=\"M19 3H5c-1.1 0-2 .9-2 2v14c0 1.1.9 2 2 2h14c1.1 0 2-.9 2-2V5c0-1.1-.9-2-2-2zM9 17H7v-7h2v7zm4 0h-2V7h2v10zm4 0h-2v-4h2v4z\"/>\n",
              "    </g>\n",
              "</svg>\n",
              "      </button>\n",
              "\n",
              "<style>\n",
              "  .colab-df-quickchart {\n",
              "      --bg-color: #E8F0FE;\n",
              "      --fill-color: #1967D2;\n",
              "      --hover-bg-color: #E2EBFA;\n",
              "      --hover-fill-color: #174EA6;\n",
              "      --disabled-fill-color: #AAA;\n",
              "      --disabled-bg-color: #DDD;\n",
              "  }\n",
              "\n",
              "  [theme=dark] .colab-df-quickchart {\n",
              "      --bg-color: #3B4455;\n",
              "      --fill-color: #D2E3FC;\n",
              "      --hover-bg-color: #434B5C;\n",
              "      --hover-fill-color: #FFFFFF;\n",
              "      --disabled-bg-color: #3B4455;\n",
              "      --disabled-fill-color: #666;\n",
              "  }\n",
              "\n",
              "  .colab-df-quickchart {\n",
              "    background-color: var(--bg-color);\n",
              "    border: none;\n",
              "    border-radius: 50%;\n",
              "    cursor: pointer;\n",
              "    display: none;\n",
              "    fill: var(--fill-color);\n",
              "    height: 32px;\n",
              "    padding: 0;\n",
              "    width: 32px;\n",
              "  }\n",
              "\n",
              "  .colab-df-quickchart:hover {\n",
              "    background-color: var(--hover-bg-color);\n",
              "    box-shadow: 0 1px 2px rgba(60, 64, 67, 0.3), 0 1px 3px 1px rgba(60, 64, 67, 0.15);\n",
              "    fill: var(--button-hover-fill-color);\n",
              "  }\n",
              "\n",
              "  .colab-df-quickchart-complete:disabled,\n",
              "  .colab-df-quickchart-complete:disabled:hover {\n",
              "    background-color: var(--disabled-bg-color);\n",
              "    fill: var(--disabled-fill-color);\n",
              "    box-shadow: none;\n",
              "  }\n",
              "\n",
              "  .colab-df-spinner {\n",
              "    border: 2px solid var(--fill-color);\n",
              "    border-color: transparent;\n",
              "    border-bottom-color: var(--fill-color);\n",
              "    animation:\n",
              "      spin 1s steps(1) infinite;\n",
              "  }\n",
              "\n",
              "  @keyframes spin {\n",
              "    0% {\n",
              "      border-color: transparent;\n",
              "      border-bottom-color: var(--fill-color);\n",
              "      border-left-color: var(--fill-color);\n",
              "    }\n",
              "    20% {\n",
              "      border-color: transparent;\n",
              "      border-left-color: var(--fill-color);\n",
              "      border-top-color: var(--fill-color);\n",
              "    }\n",
              "    30% {\n",
              "      border-color: transparent;\n",
              "      border-left-color: var(--fill-color);\n",
              "      border-top-color: var(--fill-color);\n",
              "      border-right-color: var(--fill-color);\n",
              "    }\n",
              "    40% {\n",
              "      border-color: transparent;\n",
              "      border-right-color: var(--fill-color);\n",
              "      border-top-color: var(--fill-color);\n",
              "    }\n",
              "    60% {\n",
              "      border-color: transparent;\n",
              "      border-right-color: var(--fill-color);\n",
              "    }\n",
              "    80% {\n",
              "      border-color: transparent;\n",
              "      border-right-color: var(--fill-color);\n",
              "      border-bottom-color: var(--fill-color);\n",
              "    }\n",
              "    90% {\n",
              "      border-color: transparent;\n",
              "      border-bottom-color: var(--fill-color);\n",
              "    }\n",
              "  }\n",
              "</style>\n",
              "\n",
              "      <script>\n",
              "        async function quickchart(key) {\n",
              "          const quickchartButtonEl =\n",
              "            document.querySelector('#' + key + ' button');\n",
              "          quickchartButtonEl.disabled = true;  // To prevent multiple clicks.\n",
              "          quickchartButtonEl.classList.add('colab-df-spinner');\n",
              "          try {\n",
              "            const charts = await google.colab.kernel.invokeFunction(\n",
              "                'suggestCharts', [key], {});\n",
              "          } catch (error) {\n",
              "            console.error('Error during call to suggestCharts:', error);\n",
              "          }\n",
              "          quickchartButtonEl.classList.remove('colab-df-spinner');\n",
              "          quickchartButtonEl.classList.add('colab-df-quickchart-complete');\n",
              "        }\n",
              "        (() => {\n",
              "          let quickchartButtonEl =\n",
              "            document.querySelector('#df-9ea56faa-385f-41e9-aec7-f0f6722686ca button');\n",
              "          quickchartButtonEl.style.display =\n",
              "            google.colab.kernel.accessAllowed ? 'block' : 'none';\n",
              "        })();\n",
              "      </script>\n",
              "    </div>\n",
              "\n",
              "    </div>\n",
              "  </div>\n"
            ],
            "application/vnd.google.colaboratory.intrinsic+json": {
              "type": "dataframe",
              "summary": "{\n  \"name\": \"data[(data['ScheduledDay_date']> data['AppointmentDay_date'])][['PatientId','ScheduledDay','AppointmentDay','No-show']]\",\n  \"rows\": 5,\n  \"fields\": [\n    {\n      \"column\": \"PatientId\",\n      \"properties\": {\n        \"dtype\": \"string\",\n        \"num_unique_values\": 5,\n        \"samples\": [\n          \"7896293967868.0\",\n          \"3787481966821.0\",\n          \"24252258389979.0\"\n        ],\n        \"semantic_type\": \"\",\n        \"description\": \"\"\n      }\n    },\n    {\n      \"column\": \"ScheduledDay\",\n      \"properties\": {\n        \"dtype\": \"date\",\n        \"min\": \"2016-05-04 06:50:57+00:00\",\n        \"max\": \"2016-05-18 14:50:41+00:00\",\n        \"num_unique_values\": 5,\n        \"samples\": [\n          \"2016-05-18 14:50:41+00:00\",\n          \"2016-05-04 06:50:57+00:00\",\n          \"2016-05-05 13:43:58+00:00\"\n        ],\n        \"semantic_type\": \"\",\n        \"description\": \"\"\n      }\n    },\n    {\n      \"column\": \"AppointmentDay\",\n      \"properties\": {\n        \"dtype\": \"date\",\n        \"min\": \"2016-05-03 00:00:00+00:00\",\n        \"max\": \"2016-05-17 00:00:00+00:00\",\n        \"num_unique_values\": 5,\n        \"samples\": [\n          \"2016-05-17 00:00:00+00:00\",\n          \"2016-05-03 00:00:00+00:00\",\n          \"2016-05-04 00:00:00+00:00\"\n        ],\n        \"semantic_type\": \"\",\n        \"description\": \"\"\n      }\n    },\n    {\n      \"column\": \"No-show\",\n      \"properties\": {\n        \"dtype\": \"category\",\n        \"num_unique_values\": 1,\n        \"samples\": [\n          \"Yes\"\n        ],\n        \"semantic_type\": \"\",\n        \"description\": \"\"\n      }\n    }\n  ]\n}"
            }
          },
          "metadata": {},
          "execution_count": 218
        }
      ]
    },
    {
      "cell_type": "markdown",
      "source": [
        "in the context of that  appointment (when the patient should go to the doctor) → in  dataset it’s AppointmentDay\n",
        "and\n",
        "DataAgendamento = the day the patient scheduled/called to make the appointment → in  dataset it’s ScheduledDay.\n",
        "by logic : ScheduledDay ≤ AppointmentDay\n",
        "but we have a problem of ⁉\n",
        "\n",
        "All ScheduledDay values have a time component (18:38:08, 16:08:27, etc.)\n",
        "\n",
        "All AppointmentDay values are 00:00:00 (just the date)\n",
        "\n",
        "ScheduledDay = 2016-04-29 18:38:08\n",
        "AppointmentDay = 2016-04-29 00:00:00\n",
        "Python sees ScheduledDay > AppointmentDay → True\n",
        "\n",
        "But the patient actually booked the same day, so it’s not really an error.\n",
        "\n",
        "so i got the date only and compared it to have the actual invlid rows where  ScheduledDay > AppointmentDay\n",
        "they are 5 rows and all of them the patient didnot show up"
      ],
      "metadata": {
        "id": "_g0cZCGX0aFP"
      }
    },
    {
      "cell_type": "code",
      "source": [
        "data_clean = data[data['ScheduledDay_date'] <= data['AppointmentDay_date']].copy()\n"
      ],
      "metadata": {
        "id": "fn0QMDyK2Paq"
      },
      "execution_count": 219,
      "outputs": []
    },
    {
      "cell_type": "code",
      "source": [
        "data_clean = data_clean.drop(columns=['ScheduledDay_date', 'AppointmentDay_date'])\n"
      ],
      "metadata": {
        "id": "560bvAa12kl7"
      },
      "execution_count": 220,
      "outputs": []
    },
    {
      "cell_type": "markdown",
      "source": [
        "# check gender"
      ],
      "metadata": {
        "id": "kBXA098t3_AO"
      }
    },
    {
      "cell_type": "code",
      "source": [
        "data_clean['Gender'].value_counts()\n",
        "\n",
        "data_clean['Gender'] = data_clean['Gender'].str.strip()\n",
        "data_clean['Gender'] = data_clean['Gender'].astype('category')\n"
      ],
      "metadata": {
        "id": "nmc_WVd-3K0u"
      },
      "execution_count": 221,
      "outputs": []
    },
    {
      "cell_type": "markdown",
      "source": [
        "# age checking"
      ],
      "metadata": {
        "id": "SuMyZAip4Eiz"
      }
    },
    {
      "cell_type": "code",
      "source": [
        "data_clean[(data_clean['Age']<0)|(data_clean['Age']>110)]"
      ],
      "metadata": {
        "colab": {
          "base_uri": "https://localhost:8080/",
          "height": 379
        },
        "id": "HJ1-SobY4G8Z",
        "outputId": "98bf18ce-d1d4-46ab-f9d5-3ec7a7258a1f"
      },
      "execution_count": 222,
      "outputs": [
        {
          "output_type": "execute_result",
          "data": {
            "text/plain": [
              "               PatientId AppointmentID Gender              ScheduledDay  \\\n",
              "63912   31963211613981.0       5700278      F 2016-05-16 09:17:44+00:00   \n",
              "63915   31963211613981.0       5700279      F 2016-05-16 09:17:44+00:00   \n",
              "68127   31963211613981.0       5562812      F 2016-04-08 14:29:17+00:00   \n",
              "76284   31963211613981.0       5744037      F 2016-05-30 09:44:51+00:00   \n",
              "97666  748234579244724.0       5717451      F 2016-05-19 07:57:56+00:00   \n",
              "99832  465943158731293.0       5775010      F 2016-06-06 08:58:13+00:00   \n",
              "\n",
              "                 AppointmentDay  Age Neighbourhood  Scholarship  Hipertension  \\\n",
              "63912 2016-05-19 00:00:00+00:00  115    ANDORINHAS            0             0   \n",
              "63915 2016-05-19 00:00:00+00:00  115    ANDORINHAS            0             0   \n",
              "68127 2016-05-16 00:00:00+00:00  115    ANDORINHAS            0             0   \n",
              "76284 2016-05-30 00:00:00+00:00  115    ANDORINHAS            0             0   \n",
              "97666 2016-06-03 00:00:00+00:00  115      SÃO JOSÉ            0             1   \n",
              "99832 2016-06-06 00:00:00+00:00   -1         ROMÃO            0             0   \n",
              "\n",
              "       Diabetes  Alcoholism  Handcap  SMS_received No-show  No.of_Visitings  \n",
              "63912         0           0        1             0     Yes                4  \n",
              "63915         0           0        1             0     Yes                0  \n",
              "68127         0           0        1             0     Yes                0  \n",
              "76284         0           0        1             0      No                0  \n",
              "97666         0           0        0             1      No                1  \n",
              "99832         0           0        0             0      No                1  "
            ],
            "text/html": [
              "\n",
              "  <div id=\"df-88b8ddb4-0244-4a78-bb76-5a210a2601fc\" class=\"colab-df-container\">\n",
              "    <div>\n",
              "<style scoped>\n",
              "    .dataframe tbody tr th:only-of-type {\n",
              "        vertical-align: middle;\n",
              "    }\n",
              "\n",
              "    .dataframe tbody tr th {\n",
              "        vertical-align: top;\n",
              "    }\n",
              "\n",
              "    .dataframe thead th {\n",
              "        text-align: right;\n",
              "    }\n",
              "</style>\n",
              "<table border=\"1\" class=\"dataframe\">\n",
              "  <thead>\n",
              "    <tr style=\"text-align: right;\">\n",
              "      <th></th>\n",
              "      <th>PatientId</th>\n",
              "      <th>AppointmentID</th>\n",
              "      <th>Gender</th>\n",
              "      <th>ScheduledDay</th>\n",
              "      <th>AppointmentDay</th>\n",
              "      <th>Age</th>\n",
              "      <th>Neighbourhood</th>\n",
              "      <th>Scholarship</th>\n",
              "      <th>Hipertension</th>\n",
              "      <th>Diabetes</th>\n",
              "      <th>Alcoholism</th>\n",
              "      <th>Handcap</th>\n",
              "      <th>SMS_received</th>\n",
              "      <th>No-show</th>\n",
              "      <th>No.of_Visitings</th>\n",
              "    </tr>\n",
              "  </thead>\n",
              "  <tbody>\n",
              "    <tr>\n",
              "      <th>63912</th>\n",
              "      <td>31963211613981.0</td>\n",
              "      <td>5700278</td>\n",
              "      <td>F</td>\n",
              "      <td>2016-05-16 09:17:44+00:00</td>\n",
              "      <td>2016-05-19 00:00:00+00:00</td>\n",
              "      <td>115</td>\n",
              "      <td>ANDORINHAS</td>\n",
              "      <td>0</td>\n",
              "      <td>0</td>\n",
              "      <td>0</td>\n",
              "      <td>0</td>\n",
              "      <td>1</td>\n",
              "      <td>0</td>\n",
              "      <td>Yes</td>\n",
              "      <td>4</td>\n",
              "    </tr>\n",
              "    <tr>\n",
              "      <th>63915</th>\n",
              "      <td>31963211613981.0</td>\n",
              "      <td>5700279</td>\n",
              "      <td>F</td>\n",
              "      <td>2016-05-16 09:17:44+00:00</td>\n",
              "      <td>2016-05-19 00:00:00+00:00</td>\n",
              "      <td>115</td>\n",
              "      <td>ANDORINHAS</td>\n",
              "      <td>0</td>\n",
              "      <td>0</td>\n",
              "      <td>0</td>\n",
              "      <td>0</td>\n",
              "      <td>1</td>\n",
              "      <td>0</td>\n",
              "      <td>Yes</td>\n",
              "      <td>0</td>\n",
              "    </tr>\n",
              "    <tr>\n",
              "      <th>68127</th>\n",
              "      <td>31963211613981.0</td>\n",
              "      <td>5562812</td>\n",
              "      <td>F</td>\n",
              "      <td>2016-04-08 14:29:17+00:00</td>\n",
              "      <td>2016-05-16 00:00:00+00:00</td>\n",
              "      <td>115</td>\n",
              "      <td>ANDORINHAS</td>\n",
              "      <td>0</td>\n",
              "      <td>0</td>\n",
              "      <td>0</td>\n",
              "      <td>0</td>\n",
              "      <td>1</td>\n",
              "      <td>0</td>\n",
              "      <td>Yes</td>\n",
              "      <td>0</td>\n",
              "    </tr>\n",
              "    <tr>\n",
              "      <th>76284</th>\n",
              "      <td>31963211613981.0</td>\n",
              "      <td>5744037</td>\n",
              "      <td>F</td>\n",
              "      <td>2016-05-30 09:44:51+00:00</td>\n",
              "      <td>2016-05-30 00:00:00+00:00</td>\n",
              "      <td>115</td>\n",
              "      <td>ANDORINHAS</td>\n",
              "      <td>0</td>\n",
              "      <td>0</td>\n",
              "      <td>0</td>\n",
              "      <td>0</td>\n",
              "      <td>1</td>\n",
              "      <td>0</td>\n",
              "      <td>No</td>\n",
              "      <td>0</td>\n",
              "    </tr>\n",
              "    <tr>\n",
              "      <th>97666</th>\n",
              "      <td>748234579244724.0</td>\n",
              "      <td>5717451</td>\n",
              "      <td>F</td>\n",
              "      <td>2016-05-19 07:57:56+00:00</td>\n",
              "      <td>2016-06-03 00:00:00+00:00</td>\n",
              "      <td>115</td>\n",
              "      <td>SÃO JOSÉ</td>\n",
              "      <td>0</td>\n",
              "      <td>1</td>\n",
              "      <td>0</td>\n",
              "      <td>0</td>\n",
              "      <td>0</td>\n",
              "      <td>1</td>\n",
              "      <td>No</td>\n",
              "      <td>1</td>\n",
              "    </tr>\n",
              "    <tr>\n",
              "      <th>99832</th>\n",
              "      <td>465943158731293.0</td>\n",
              "      <td>5775010</td>\n",
              "      <td>F</td>\n",
              "      <td>2016-06-06 08:58:13+00:00</td>\n",
              "      <td>2016-06-06 00:00:00+00:00</td>\n",
              "      <td>-1</td>\n",
              "      <td>ROMÃO</td>\n",
              "      <td>0</td>\n",
              "      <td>0</td>\n",
              "      <td>0</td>\n",
              "      <td>0</td>\n",
              "      <td>0</td>\n",
              "      <td>0</td>\n",
              "      <td>No</td>\n",
              "      <td>1</td>\n",
              "    </tr>\n",
              "  </tbody>\n",
              "</table>\n",
              "</div>\n",
              "    <div class=\"colab-df-buttons\">\n",
              "\n",
              "  <div class=\"colab-df-container\">\n",
              "    <button class=\"colab-df-convert\" onclick=\"convertToInteractive('df-88b8ddb4-0244-4a78-bb76-5a210a2601fc')\"\n",
              "            title=\"Convert this dataframe to an interactive table.\"\n",
              "            style=\"display:none;\">\n",
              "\n",
              "  <svg xmlns=\"http://www.w3.org/2000/svg\" height=\"24px\" viewBox=\"0 -960 960 960\">\n",
              "    <path d=\"M120-120v-720h720v720H120Zm60-500h600v-160H180v160Zm220 220h160v-160H400v160Zm0 220h160v-160H400v160ZM180-400h160v-160H180v160Zm440 0h160v-160H620v160ZM180-180h160v-160H180v160Zm440 0h160v-160H620v160Z\"/>\n",
              "  </svg>\n",
              "    </button>\n",
              "\n",
              "  <style>\n",
              "    .colab-df-container {\n",
              "      display:flex;\n",
              "      gap: 12px;\n",
              "    }\n",
              "\n",
              "    .colab-df-convert {\n",
              "      background-color: #E8F0FE;\n",
              "      border: none;\n",
              "      border-radius: 50%;\n",
              "      cursor: pointer;\n",
              "      display: none;\n",
              "      fill: #1967D2;\n",
              "      height: 32px;\n",
              "      padding: 0 0 0 0;\n",
              "      width: 32px;\n",
              "    }\n",
              "\n",
              "    .colab-df-convert:hover {\n",
              "      background-color: #E2EBFA;\n",
              "      box-shadow: 0px 1px 2px rgba(60, 64, 67, 0.3), 0px 1px 3px 1px rgba(60, 64, 67, 0.15);\n",
              "      fill: #174EA6;\n",
              "    }\n",
              "\n",
              "    .colab-df-buttons div {\n",
              "      margin-bottom: 4px;\n",
              "    }\n",
              "\n",
              "    [theme=dark] .colab-df-convert {\n",
              "      background-color: #3B4455;\n",
              "      fill: #D2E3FC;\n",
              "    }\n",
              "\n",
              "    [theme=dark] .colab-df-convert:hover {\n",
              "      background-color: #434B5C;\n",
              "      box-shadow: 0px 1px 3px 1px rgba(0, 0, 0, 0.15);\n",
              "      filter: drop-shadow(0px 1px 2px rgba(0, 0, 0, 0.3));\n",
              "      fill: #FFFFFF;\n",
              "    }\n",
              "  </style>\n",
              "\n",
              "    <script>\n",
              "      const buttonEl =\n",
              "        document.querySelector('#df-88b8ddb4-0244-4a78-bb76-5a210a2601fc button.colab-df-convert');\n",
              "      buttonEl.style.display =\n",
              "        google.colab.kernel.accessAllowed ? 'block' : 'none';\n",
              "\n",
              "      async function convertToInteractive(key) {\n",
              "        const element = document.querySelector('#df-88b8ddb4-0244-4a78-bb76-5a210a2601fc');\n",
              "        const dataTable =\n",
              "          await google.colab.kernel.invokeFunction('convertToInteractive',\n",
              "                                                    [key], {});\n",
              "        if (!dataTable) return;\n",
              "\n",
              "        const docLinkHtml = 'Like what you see? Visit the ' +\n",
              "          '<a target=\"_blank\" href=https://colab.research.google.com/notebooks/data_table.ipynb>data table notebook</a>'\n",
              "          + ' to learn more about interactive tables.';\n",
              "        element.innerHTML = '';\n",
              "        dataTable['output_type'] = 'display_data';\n",
              "        await google.colab.output.renderOutput(dataTable, element);\n",
              "        const docLink = document.createElement('div');\n",
              "        docLink.innerHTML = docLinkHtml;\n",
              "        element.appendChild(docLink);\n",
              "      }\n",
              "    </script>\n",
              "  </div>\n",
              "\n",
              "\n",
              "    <div id=\"df-1776c986-cd52-4b16-a241-916da63d9344\">\n",
              "      <button class=\"colab-df-quickchart\" onclick=\"quickchart('df-1776c986-cd52-4b16-a241-916da63d9344')\"\n",
              "                title=\"Suggest charts\"\n",
              "                style=\"display:none;\">\n",
              "\n",
              "<svg xmlns=\"http://www.w3.org/2000/svg\" height=\"24px\"viewBox=\"0 0 24 24\"\n",
              "     width=\"24px\">\n",
              "    <g>\n",
              "        <path d=\"M19 3H5c-1.1 0-2 .9-2 2v14c0 1.1.9 2 2 2h14c1.1 0 2-.9 2-2V5c0-1.1-.9-2-2-2zM9 17H7v-7h2v7zm4 0h-2V7h2v10zm4 0h-2v-4h2v4z\"/>\n",
              "    </g>\n",
              "</svg>\n",
              "      </button>\n",
              "\n",
              "<style>\n",
              "  .colab-df-quickchart {\n",
              "      --bg-color: #E8F0FE;\n",
              "      --fill-color: #1967D2;\n",
              "      --hover-bg-color: #E2EBFA;\n",
              "      --hover-fill-color: #174EA6;\n",
              "      --disabled-fill-color: #AAA;\n",
              "      --disabled-bg-color: #DDD;\n",
              "  }\n",
              "\n",
              "  [theme=dark] .colab-df-quickchart {\n",
              "      --bg-color: #3B4455;\n",
              "      --fill-color: #D2E3FC;\n",
              "      --hover-bg-color: #434B5C;\n",
              "      --hover-fill-color: #FFFFFF;\n",
              "      --disabled-bg-color: #3B4455;\n",
              "      --disabled-fill-color: #666;\n",
              "  }\n",
              "\n",
              "  .colab-df-quickchart {\n",
              "    background-color: var(--bg-color);\n",
              "    border: none;\n",
              "    border-radius: 50%;\n",
              "    cursor: pointer;\n",
              "    display: none;\n",
              "    fill: var(--fill-color);\n",
              "    height: 32px;\n",
              "    padding: 0;\n",
              "    width: 32px;\n",
              "  }\n",
              "\n",
              "  .colab-df-quickchart:hover {\n",
              "    background-color: var(--hover-bg-color);\n",
              "    box-shadow: 0 1px 2px rgba(60, 64, 67, 0.3), 0 1px 3px 1px rgba(60, 64, 67, 0.15);\n",
              "    fill: var(--button-hover-fill-color);\n",
              "  }\n",
              "\n",
              "  .colab-df-quickchart-complete:disabled,\n",
              "  .colab-df-quickchart-complete:disabled:hover {\n",
              "    background-color: var(--disabled-bg-color);\n",
              "    fill: var(--disabled-fill-color);\n",
              "    box-shadow: none;\n",
              "  }\n",
              "\n",
              "  .colab-df-spinner {\n",
              "    border: 2px solid var(--fill-color);\n",
              "    border-color: transparent;\n",
              "    border-bottom-color: var(--fill-color);\n",
              "    animation:\n",
              "      spin 1s steps(1) infinite;\n",
              "  }\n",
              "\n",
              "  @keyframes spin {\n",
              "    0% {\n",
              "      border-color: transparent;\n",
              "      border-bottom-color: var(--fill-color);\n",
              "      border-left-color: var(--fill-color);\n",
              "    }\n",
              "    20% {\n",
              "      border-color: transparent;\n",
              "      border-left-color: var(--fill-color);\n",
              "      border-top-color: var(--fill-color);\n",
              "    }\n",
              "    30% {\n",
              "      border-color: transparent;\n",
              "      border-left-color: var(--fill-color);\n",
              "      border-top-color: var(--fill-color);\n",
              "      border-right-color: var(--fill-color);\n",
              "    }\n",
              "    40% {\n",
              "      border-color: transparent;\n",
              "      border-right-color: var(--fill-color);\n",
              "      border-top-color: var(--fill-color);\n",
              "    }\n",
              "    60% {\n",
              "      border-color: transparent;\n",
              "      border-right-color: var(--fill-color);\n",
              "    }\n",
              "    80% {\n",
              "      border-color: transparent;\n",
              "      border-right-color: var(--fill-color);\n",
              "      border-bottom-color: var(--fill-color);\n",
              "    }\n",
              "    90% {\n",
              "      border-color: transparent;\n",
              "      border-bottom-color: var(--fill-color);\n",
              "    }\n",
              "  }\n",
              "</style>\n",
              "\n",
              "      <script>\n",
              "        async function quickchart(key) {\n",
              "          const quickchartButtonEl =\n",
              "            document.querySelector('#' + key + ' button');\n",
              "          quickchartButtonEl.disabled = true;  // To prevent multiple clicks.\n",
              "          quickchartButtonEl.classList.add('colab-df-spinner');\n",
              "          try {\n",
              "            const charts = await google.colab.kernel.invokeFunction(\n",
              "                'suggestCharts', [key], {});\n",
              "          } catch (error) {\n",
              "            console.error('Error during call to suggestCharts:', error);\n",
              "          }\n",
              "          quickchartButtonEl.classList.remove('colab-df-spinner');\n",
              "          quickchartButtonEl.classList.add('colab-df-quickchart-complete');\n",
              "        }\n",
              "        (() => {\n",
              "          let quickchartButtonEl =\n",
              "            document.querySelector('#df-1776c986-cd52-4b16-a241-916da63d9344 button');\n",
              "          quickchartButtonEl.style.display =\n",
              "            google.colab.kernel.accessAllowed ? 'block' : 'none';\n",
              "        })();\n",
              "      </script>\n",
              "    </div>\n",
              "\n",
              "    </div>\n",
              "  </div>\n"
            ],
            "application/vnd.google.colaboratory.intrinsic+json": {
              "type": "dataframe",
              "summary": "{\n  \"name\": \"data_clean[(data_clean['Age']<0)|(data_clean['Age']>110)]\",\n  \"rows\": 6,\n  \"fields\": [\n    {\n      \"column\": \"PatientId\",\n      \"properties\": {\n        \"dtype\": \"string\",\n        \"num_unique_values\": 3,\n        \"samples\": [\n          \"31963211613981.0\",\n          \"748234579244724.0\",\n          \"465943158731293.0\"\n        ],\n        \"semantic_type\": \"\",\n        \"description\": \"\"\n      }\n    },\n    {\n      \"column\": \"AppointmentID\",\n      \"properties\": {\n        \"dtype\": \"string\",\n        \"num_unique_values\": 6,\n        \"samples\": [\n          \"5700278\",\n          \"5700279\",\n          \"5775010\"\n        ],\n        \"semantic_type\": \"\",\n        \"description\": \"\"\n      }\n    },\n    {\n      \"column\": \"Gender\",\n      \"properties\": {\n        \"dtype\": \"category\",\n        \"num_unique_values\": 1,\n        \"samples\": [\n          \"F\"\n        ],\n        \"semantic_type\": \"\",\n        \"description\": \"\"\n      }\n    },\n    {\n      \"column\": \"ScheduledDay\",\n      \"properties\": {\n        \"dtype\": \"date\",\n        \"min\": \"2016-04-08 14:29:17+00:00\",\n        \"max\": \"2016-06-06 08:58:13+00:00\",\n        \"num_unique_values\": 5,\n        \"samples\": [\n          \"2016-04-08 14:29:17+00:00\"\n        ],\n        \"semantic_type\": \"\",\n        \"description\": \"\"\n      }\n    },\n    {\n      \"column\": \"AppointmentDay\",\n      \"properties\": {\n        \"dtype\": \"date\",\n        \"min\": \"2016-05-16 00:00:00+00:00\",\n        \"max\": \"2016-06-06 00:00:00+00:00\",\n        \"num_unique_values\": 5,\n        \"samples\": [\n          \"2016-05-16 00:00:00+00:00\"\n        ],\n        \"semantic_type\": \"\",\n        \"description\": \"\"\n      }\n    },\n    {\n      \"column\": \"Age\",\n      \"properties\": {\n        \"dtype\": \"number\",\n        \"std\": 47,\n        \"min\": -1,\n        \"max\": 115,\n        \"num_unique_values\": 2,\n        \"samples\": [\n          -1\n        ],\n        \"semantic_type\": \"\",\n        \"description\": \"\"\n      }\n    },\n    {\n      \"column\": \"Neighbourhood\",\n      \"properties\": {\n        \"dtype\": \"string\",\n        \"num_unique_values\": 3,\n        \"samples\": [\n          \"ANDORINHAS\"\n        ],\n        \"semantic_type\": \"\",\n        \"description\": \"\"\n      }\n    },\n    {\n      \"column\": \"Scholarship\",\n      \"properties\": {\n        \"dtype\": \"number\",\n        \"std\": 0,\n        \"min\": 0,\n        \"max\": 0,\n        \"num_unique_values\": 1,\n        \"samples\": [\n          0\n        ],\n        \"semantic_type\": \"\",\n        \"description\": \"\"\n      }\n    },\n    {\n      \"column\": \"Hipertension\",\n      \"properties\": {\n        \"dtype\": \"number\",\n        \"std\": 0,\n        \"min\": 0,\n        \"max\": 1,\n        \"num_unique_values\": 2,\n        \"samples\": [\n          1\n        ],\n        \"semantic_type\": \"\",\n        \"description\": \"\"\n      }\n    },\n    {\n      \"column\": \"Diabetes\",\n      \"properties\": {\n        \"dtype\": \"number\",\n        \"std\": 0,\n        \"min\": 0,\n        \"max\": 0,\n        \"num_unique_values\": 1,\n        \"samples\": [\n          0\n        ],\n        \"semantic_type\": \"\",\n        \"description\": \"\"\n      }\n    },\n    {\n      \"column\": \"Alcoholism\",\n      \"properties\": {\n        \"dtype\": \"number\",\n        \"std\": 0,\n        \"min\": 0,\n        \"max\": 0,\n        \"num_unique_values\": 1,\n        \"samples\": [\n          0\n        ],\n        \"semantic_type\": \"\",\n        \"description\": \"\"\n      }\n    },\n    {\n      \"column\": \"Handcap\",\n      \"properties\": {\n        \"dtype\": \"number\",\n        \"std\": 0,\n        \"min\": 0,\n        \"max\": 1,\n        \"num_unique_values\": 2,\n        \"samples\": [\n          0\n        ],\n        \"semantic_type\": \"\",\n        \"description\": \"\"\n      }\n    },\n    {\n      \"column\": \"SMS_received\",\n      \"properties\": {\n        \"dtype\": \"number\",\n        \"std\": 0,\n        \"min\": 0,\n        \"max\": 1,\n        \"num_unique_values\": 2,\n        \"samples\": [\n          1\n        ],\n        \"semantic_type\": \"\",\n        \"description\": \"\"\n      }\n    },\n    {\n      \"column\": \"No-show\",\n      \"properties\": {\n        \"dtype\": \"category\",\n        \"num_unique_values\": 2,\n        \"samples\": [\n          \"No\"\n        ],\n        \"semantic_type\": \"\",\n        \"description\": \"\"\n      }\n    },\n    {\n      \"column\": \"No.of_Visitings\",\n      \"properties\": {\n        \"dtype\": \"number\",\n        \"std\": 1,\n        \"min\": 0,\n        \"max\": 4,\n        \"num_unique_values\": 3,\n        \"samples\": [\n          4\n        ],\n        \"semantic_type\": \"\",\n        \"description\": \"\"\n      }\n    }\n  ]\n}"
            }
          },
          "metadata": {},
          "execution_count": 222
        }
      ]
    },
    {
      "cell_type": "markdown",
      "source": [
        "I found 6 rows where might age feels unrealistic , but when i have a look , the first 4 are the same person ( patient No: 3.196321e+13) and actually , he does and show up once (appointment no: 5744037) so that might make sence that this is actually a person.\n",
        "\n",
        "patient 7.482346e+14 have same age and also show up , so i will leave\n",
        "\n",
        "i will only drop 99832\t4.659432e+14 , age = -1(no sence)"
      ],
      "metadata": {
        "id": "laHNXtxY57FX"
      }
    },
    {
      "cell_type": "code",
      "source": [
        "data_clean = data_clean.drop(index=99832)\n"
      ],
      "metadata": {
        "id": "Kdt31_w_684N"
      },
      "execution_count": 223,
      "outputs": []
    },
    {
      "cell_type": "markdown",
      "source": [
        "# Neighbourhood"
      ],
      "metadata": {
        "id": "WLeH0KL68koz"
      }
    },
    {
      "cell_type": "code",
      "source": [
        "data_clean['Neighbourhood'].value_counts()"
      ],
      "metadata": {
        "colab": {
          "base_uri": "https://localhost:8080/",
          "height": 490
        },
        "id": "JzqTuVLd8o92",
        "outputId": "a76d91fa-0031-44eb-bc5c-1990cbbc3a60"
      },
      "execution_count": 224,
      "outputs": [
        {
          "output_type": "execute_result",
          "data": {
            "text/plain": [
              "Neighbourhood\n",
              "JARDIM CAMBURI                 7717\n",
              "MARIA ORTIZ                    5805\n",
              "RESISTÊNCIA                    4430\n",
              "JARDIM DA PENHA                3877\n",
              "ITARARÉ                        3514\n",
              "                               ... \n",
              "ILHA DO BOI                      35\n",
              "ILHA DO FRADE                    10\n",
              "AEROPORTO                         8\n",
              "ILHAS OCEÂNICAS DE TRINDADE       2\n",
              "PARQUE INDUSTRIAL                 1\n",
              "Name: count, Length: 81, dtype: int64"
            ],
            "text/html": [
              "<div>\n",
              "<style scoped>\n",
              "    .dataframe tbody tr th:only-of-type {\n",
              "        vertical-align: middle;\n",
              "    }\n",
              "\n",
              "    .dataframe tbody tr th {\n",
              "        vertical-align: top;\n",
              "    }\n",
              "\n",
              "    .dataframe thead th {\n",
              "        text-align: right;\n",
              "    }\n",
              "</style>\n",
              "<table border=\"1\" class=\"dataframe\">\n",
              "  <thead>\n",
              "    <tr style=\"text-align: right;\">\n",
              "      <th></th>\n",
              "      <th>count</th>\n",
              "    </tr>\n",
              "    <tr>\n",
              "      <th>Neighbourhood</th>\n",
              "      <th></th>\n",
              "    </tr>\n",
              "  </thead>\n",
              "  <tbody>\n",
              "    <tr>\n",
              "      <th>JARDIM CAMBURI</th>\n",
              "      <td>7717</td>\n",
              "    </tr>\n",
              "    <tr>\n",
              "      <th>MARIA ORTIZ</th>\n",
              "      <td>5805</td>\n",
              "    </tr>\n",
              "    <tr>\n",
              "      <th>RESISTÊNCIA</th>\n",
              "      <td>4430</td>\n",
              "    </tr>\n",
              "    <tr>\n",
              "      <th>JARDIM DA PENHA</th>\n",
              "      <td>3877</td>\n",
              "    </tr>\n",
              "    <tr>\n",
              "      <th>ITARARÉ</th>\n",
              "      <td>3514</td>\n",
              "    </tr>\n",
              "    <tr>\n",
              "      <th>...</th>\n",
              "      <td>...</td>\n",
              "    </tr>\n",
              "    <tr>\n",
              "      <th>ILHA DO BOI</th>\n",
              "      <td>35</td>\n",
              "    </tr>\n",
              "    <tr>\n",
              "      <th>ILHA DO FRADE</th>\n",
              "      <td>10</td>\n",
              "    </tr>\n",
              "    <tr>\n",
              "      <th>AEROPORTO</th>\n",
              "      <td>8</td>\n",
              "    </tr>\n",
              "    <tr>\n",
              "      <th>ILHAS OCEÂNICAS DE TRINDADE</th>\n",
              "      <td>2</td>\n",
              "    </tr>\n",
              "    <tr>\n",
              "      <th>PARQUE INDUSTRIAL</th>\n",
              "      <td>1</td>\n",
              "    </tr>\n",
              "  </tbody>\n",
              "</table>\n",
              "<p>81 rows × 1 columns</p>\n",
              "</div><br><label><b>dtype:</b> int64</label>"
            ]
          },
          "metadata": {},
          "execution_count": 224
        }
      ]
    },
    {
      "cell_type": "code",
      "source": [
        "data_clean['Neighbourhood'] = data_clean['Neighbourhood'].str.strip()\n",
        "data_clean['Neighbourhood'] = data_clean['Neighbourhood'].astype('category')\n",
        "\n"
      ],
      "metadata": {
        "id": "dFS6_QwV80Tz"
      },
      "execution_count": 225,
      "outputs": []
    },
    {
      "cell_type": "markdown",
      "source": [
        "#Scholarship, Hipertension, Diabetes, Alcoholism, Handcap, SMS_received"
      ],
      "metadata": {
        "id": "QOv3k1Dv9Esn"
      }
    },
    {
      "cell_type": "code",
      "source": [
        "data_clean[['Scholarship','Hipertension','Diabetes','Alcoholism','Handcap','SMS_received']].nunique()"
      ],
      "metadata": {
        "colab": {
          "base_uri": "https://localhost:8080/",
          "height": 272
        },
        "id": "cC2jVDQu9HM2",
        "outputId": "5eaf46af-58f0-4165-b6a1-a527fea1ab02"
      },
      "execution_count": 226,
      "outputs": [
        {
          "output_type": "execute_result",
          "data": {
            "text/plain": [
              "Scholarship     2\n",
              "Hipertension    2\n",
              "Diabetes        2\n",
              "Alcoholism      2\n",
              "Handcap         5\n",
              "SMS_received    2\n",
              "dtype: int64"
            ],
            "text/html": [
              "<div>\n",
              "<style scoped>\n",
              "    .dataframe tbody tr th:only-of-type {\n",
              "        vertical-align: middle;\n",
              "    }\n",
              "\n",
              "    .dataframe tbody tr th {\n",
              "        vertical-align: top;\n",
              "    }\n",
              "\n",
              "    .dataframe thead th {\n",
              "        text-align: right;\n",
              "    }\n",
              "</style>\n",
              "<table border=\"1\" class=\"dataframe\">\n",
              "  <thead>\n",
              "    <tr style=\"text-align: right;\">\n",
              "      <th></th>\n",
              "      <th>0</th>\n",
              "    </tr>\n",
              "  </thead>\n",
              "  <tbody>\n",
              "    <tr>\n",
              "      <th>Scholarship</th>\n",
              "      <td>2</td>\n",
              "    </tr>\n",
              "    <tr>\n",
              "      <th>Hipertension</th>\n",
              "      <td>2</td>\n",
              "    </tr>\n",
              "    <tr>\n",
              "      <th>Diabetes</th>\n",
              "      <td>2</td>\n",
              "    </tr>\n",
              "    <tr>\n",
              "      <th>Alcoholism</th>\n",
              "      <td>2</td>\n",
              "    </tr>\n",
              "    <tr>\n",
              "      <th>Handcap</th>\n",
              "      <td>5</td>\n",
              "    </tr>\n",
              "    <tr>\n",
              "      <th>SMS_received</th>\n",
              "      <td>2</td>\n",
              "    </tr>\n",
              "  </tbody>\n",
              "</table>\n",
              "</div><br><label><b>dtype:</b> int64</label>"
            ]
          },
          "metadata": {},
          "execution_count": 226
        }
      ]
    },
    {
      "cell_type": "markdown",
      "source": [
        "- oh , headcap problem catch , because data description : Handcap True or False"
      ],
      "metadata": {
        "id": "QZhFeHUQ959s"
      }
    },
    {
      "cell_type": "code",
      "source": [
        "data_clean['Handcap'].value_counts()\n"
      ],
      "metadata": {
        "colab": {
          "base_uri": "https://localhost:8080/",
          "height": 178
        },
        "id": "D8vwLLe595Ov",
        "outputId": "0eaa1ca8-58c4-4ba1-af9e-29d226b8bc40"
      },
      "execution_count": 228,
      "outputs": [
        {
          "output_type": "execute_result",
          "data": {
            "text/plain": [
              "Handcap\n",
              "0    108282\n",
              "1      2239\n",
              "Name: count, dtype: int64"
            ],
            "text/html": [
              "<div>\n",
              "<style scoped>\n",
              "    .dataframe tbody tr th:only-of-type {\n",
              "        vertical-align: middle;\n",
              "    }\n",
              "\n",
              "    .dataframe tbody tr th {\n",
              "        vertical-align: top;\n",
              "    }\n",
              "\n",
              "    .dataframe thead th {\n",
              "        text-align: right;\n",
              "    }\n",
              "</style>\n",
              "<table border=\"1\" class=\"dataframe\">\n",
              "  <thead>\n",
              "    <tr style=\"text-align: right;\">\n",
              "      <th></th>\n",
              "      <th>count</th>\n",
              "    </tr>\n",
              "    <tr>\n",
              "      <th>Handcap</th>\n",
              "      <th></th>\n",
              "    </tr>\n",
              "  </thead>\n",
              "  <tbody>\n",
              "    <tr>\n",
              "      <th>0</th>\n",
              "      <td>108282</td>\n",
              "    </tr>\n",
              "    <tr>\n",
              "      <th>1</th>\n",
              "      <td>2239</td>\n",
              "    </tr>\n",
              "  </tbody>\n",
              "</table>\n",
              "</div><br><label><b>dtype:</b> int64</label>"
            ]
          },
          "metadata": {},
          "execution_count": 228
        }
      ]
    },
    {
      "cell_type": "markdown",
      "source": [
        "I checked them , they looked mostly realistic , so i will only clean any headcap>1 to equal 1"
      ],
      "metadata": {
        "id": "7PMJP0Q7-7rE"
      }
    },
    {
      "cell_type": "code",
      "source": [
        "data_clean['Handcap'] = data_clean['Handcap'].apply(lambda x: 1 if x > 1 else x)\n"
      ],
      "metadata": {
        "id": "crJnKLWb-OSi"
      },
      "execution_count": 229,
      "outputs": []
    },
    {
      "cell_type": "code",
      "source": [
        "data_clean['No-show'] = data_clean['No-show'].map({'Yes':1, 'No':0})\n",
        "data_clean['No-show'] = data_clean['No-show'].astype('category')\n"
      ],
      "metadata": {
        "id": "2wcSbX0kAXb2"
      },
      "execution_count": 230,
      "outputs": []
    },
    {
      "cell_type": "code",
      "source": [
        "data_clean.info()"
      ],
      "metadata": {
        "colab": {
          "base_uri": "https://localhost:8080/"
        },
        "id": "Qyp2zzv-AdQH",
        "outputId": "db6aeba1-7de9-4547-899d-36a7a3ccd16a"
      },
      "execution_count": 231,
      "outputs": [
        {
          "output_type": "stream",
          "name": "stdout",
          "text": [
            "<class 'pandas.core.frame.DataFrame'>\n",
            "Index: 110521 entries, 0 to 110526\n",
            "Data columns (total 15 columns):\n",
            " #   Column           Non-Null Count   Dtype              \n",
            "---  ------           --------------   -----              \n",
            " 0   PatientId        110521 non-null  object             \n",
            " 1   AppointmentID    110521 non-null  object             \n",
            " 2   Gender           110521 non-null  category           \n",
            " 3   ScheduledDay     110521 non-null  datetime64[ns, UTC]\n",
            " 4   AppointmentDay   110521 non-null  datetime64[ns, UTC]\n",
            " 5   Age              110521 non-null  int64              \n",
            " 6   Neighbourhood    110521 non-null  category           \n",
            " 7   Scholarship      110521 non-null  int64              \n",
            " 8   Hipertension     110521 non-null  int64              \n",
            " 9   Diabetes         110521 non-null  int64              \n",
            " 10  Alcoholism       110521 non-null  int64              \n",
            " 11  Handcap          110521 non-null  int64              \n",
            " 12  SMS_received     110521 non-null  int64              \n",
            " 13  No-show          110521 non-null  category           \n",
            " 14  No.of_Visitings  110521 non-null  int64              \n",
            "dtypes: category(3), datetime64[ns, UTC](2), int64(8), object(2)\n",
            "memory usage: 11.3+ MB\n"
          ]
        }
      ]
    },
    {
      "cell_type": "code",
      "source": [
        "visit_counts = data_clean['PatientId'].value_counts()\n",
        "\n",
        "data_clean['No.of_Visitings'] = data_clean['PatientId'].map(visit_counts)\n",
        "\n",
        "data_clean['No.of_Visitings'] = data_clean.groupby('PatientId')['No.of_Visitings'].transform(\n",
        "    lambda x: [x.iloc[0]] + [None]*(len(x)-1))\n",
        "\n",
        "data_clean['No.of_Visitings'].sum()\n",
        "data_clean['No.of_Visitings']=data_clean['No.of_Visitings'].fillna(0)\n",
        "\n",
        "data_clean[\"No.of_Visitings\"] = data_clean[\"No.of_Visitings\"].astype(int)\n",
        "data_clean[\"No.of_Visitings\"].sum()\n"
      ],
      "metadata": {
        "colab": {
          "base_uri": "https://localhost:8080/"
        },
        "id": "GDZat1JcAtuR",
        "outputId": "e1770100-fa7e-4658-e618-147d97027ce9"
      },
      "execution_count": 232,
      "outputs": [
        {
          "output_type": "execute_result",
          "data": {
            "text/plain": [
              "np.int64(110521)"
            ]
          },
          "metadata": {},
          "execution_count": 232
        }
      ]
    },
    {
      "cell_type": "code",
      "source": [
        "data_clean.info()"
      ],
      "metadata": {
        "colab": {
          "base_uri": "https://localhost:8080/"
        },
        "id": "SQS4psvXBWuc",
        "outputId": "4cfb563c-8aae-4299-d015-853457f8e71c"
      },
      "execution_count": 233,
      "outputs": [
        {
          "output_type": "stream",
          "name": "stdout",
          "text": [
            "<class 'pandas.core.frame.DataFrame'>\n",
            "Index: 110521 entries, 0 to 110526\n",
            "Data columns (total 15 columns):\n",
            " #   Column           Non-Null Count   Dtype              \n",
            "---  ------           --------------   -----              \n",
            " 0   PatientId        110521 non-null  object             \n",
            " 1   AppointmentID    110521 non-null  object             \n",
            " 2   Gender           110521 non-null  category           \n",
            " 3   ScheduledDay     110521 non-null  datetime64[ns, UTC]\n",
            " 4   AppointmentDay   110521 non-null  datetime64[ns, UTC]\n",
            " 5   Age              110521 non-null  int64              \n",
            " 6   Neighbourhood    110521 non-null  category           \n",
            " 7   Scholarship      110521 non-null  int64              \n",
            " 8   Hipertension     110521 non-null  int64              \n",
            " 9   Diabetes         110521 non-null  int64              \n",
            " 10  Alcoholism       110521 non-null  int64              \n",
            " 11  Handcap          110521 non-null  int64              \n",
            " 12  SMS_received     110521 non-null  int64              \n",
            " 13  No-show          110521 non-null  category           \n",
            " 14  No.of_Visitings  110521 non-null  int64              \n",
            "dtypes: category(3), datetime64[ns, UTC](2), int64(8), object(2)\n",
            "memory usage: 11.3+ MB\n"
          ]
        }
      ]
    },
    {
      "cell_type": "markdown",
      "source": [
        "# Analysis and Makong features"
      ],
      "metadata": {
        "id": "x4MTKYBsCFi4"
      }
    },
    {
      "cell_type": "markdown",
      "source": [
        "- Dealy between scheduling and appointment"
      ],
      "metadata": {
        "id": "50sO_DTNC7_v"
      }
    },
    {
      "cell_type": "code",
      "source": [
        "data_clean['ScheduledDay_date'] = pd.to_datetime(data_clean['ScheduledDay'])\n",
        "data_clean['AppointmentDay_date'] = pd.to_datetime(data_clean['AppointmentDay'])\n"
      ],
      "metadata": {
        "id": "2qVtnNvsEWyU"
      },
      "execution_count": 234,
      "outputs": []
    },
    {
      "cell_type": "code",
      "source": [
        "data_clean['Schedule_Delay_Days'] = (data_clean['AppointmentDay_date'] - data_clean['ScheduledDay_date']).dt.days\n"
      ],
      "metadata": {
        "id": "fgmasxcLDYS8"
      },
      "execution_count": 235,
      "outputs": []
    },
    {
      "cell_type": "code",
      "source": [
        "data_clean['ScheduledDay_date'] = pd.to_datetime(data_clean['ScheduledDay']).dt.date\n",
        "data_clean['AppointmentDay_date'] = pd.to_datetime(data_clean['AppointmentDay']).dt.date\n",
        "\n",
        "data_clean['Schedule_Delay_Days'] = (pd.to_datetime(data_clean['AppointmentDay_date']) -\n",
        "                                     pd.to_datetime(data_clean['ScheduledDay_date'])).dt.days\n"
      ],
      "metadata": {
        "id": "VuruYtdjDcYf"
      },
      "execution_count": 236,
      "outputs": []
    },
    {
      "cell_type": "code",
      "source": [
        "data_clean[(data_clean['Schedule_Delay_Days'])<0]"
      ],
      "metadata": {
        "colab": {
          "base_uri": "https://localhost:8080/",
          "height": 87
        },
        "id": "UDwGSuGRFWx_",
        "outputId": "cd547a7d-fbf3-4e78-8cb7-7fd02fcd0b86"
      },
      "execution_count": 237,
      "outputs": [
        {
          "output_type": "execute_result",
          "data": {
            "text/plain": [
              "Empty DataFrame\n",
              "Columns: [PatientId, AppointmentID, Gender, ScheduledDay, AppointmentDay, Age, Neighbourhood, Scholarship, Hipertension, Diabetes, Alcoholism, Handcap, SMS_received, No-show, No.of_Visitings, ScheduledDay_date, AppointmentDay_date, Schedule_Delay_Days]\n",
              "Index: []"
            ],
            "text/html": [
              "\n",
              "  <div id=\"df-7192e58e-a015-4dac-9d6d-ff86863f313d\" class=\"colab-df-container\">\n",
              "    <div>\n",
              "<style scoped>\n",
              "    .dataframe tbody tr th:only-of-type {\n",
              "        vertical-align: middle;\n",
              "    }\n",
              "\n",
              "    .dataframe tbody tr th {\n",
              "        vertical-align: top;\n",
              "    }\n",
              "\n",
              "    .dataframe thead th {\n",
              "        text-align: right;\n",
              "    }\n",
              "</style>\n",
              "<table border=\"1\" class=\"dataframe\">\n",
              "  <thead>\n",
              "    <tr style=\"text-align: right;\">\n",
              "      <th></th>\n",
              "      <th>PatientId</th>\n",
              "      <th>AppointmentID</th>\n",
              "      <th>Gender</th>\n",
              "      <th>ScheduledDay</th>\n",
              "      <th>AppointmentDay</th>\n",
              "      <th>Age</th>\n",
              "      <th>Neighbourhood</th>\n",
              "      <th>Scholarship</th>\n",
              "      <th>Hipertension</th>\n",
              "      <th>Diabetes</th>\n",
              "      <th>Alcoholism</th>\n",
              "      <th>Handcap</th>\n",
              "      <th>SMS_received</th>\n",
              "      <th>No-show</th>\n",
              "      <th>No.of_Visitings</th>\n",
              "      <th>ScheduledDay_date</th>\n",
              "      <th>AppointmentDay_date</th>\n",
              "      <th>Schedule_Delay_Days</th>\n",
              "    </tr>\n",
              "  </thead>\n",
              "  <tbody>\n",
              "  </tbody>\n",
              "</table>\n",
              "</div>\n",
              "    <div class=\"colab-df-buttons\">\n",
              "\n",
              "  <div class=\"colab-df-container\">\n",
              "    <button class=\"colab-df-convert\" onclick=\"convertToInteractive('df-7192e58e-a015-4dac-9d6d-ff86863f313d')\"\n",
              "            title=\"Convert this dataframe to an interactive table.\"\n",
              "            style=\"display:none;\">\n",
              "\n",
              "  <svg xmlns=\"http://www.w3.org/2000/svg\" height=\"24px\" viewBox=\"0 -960 960 960\">\n",
              "    <path d=\"M120-120v-720h720v720H120Zm60-500h600v-160H180v160Zm220 220h160v-160H400v160Zm0 220h160v-160H400v160ZM180-400h160v-160H180v160Zm440 0h160v-160H620v160ZM180-180h160v-160H180v160Zm440 0h160v-160H620v160Z\"/>\n",
              "  </svg>\n",
              "    </button>\n",
              "\n",
              "  <style>\n",
              "    .colab-df-container {\n",
              "      display:flex;\n",
              "      gap: 12px;\n",
              "    }\n",
              "\n",
              "    .colab-df-convert {\n",
              "      background-color: #E8F0FE;\n",
              "      border: none;\n",
              "      border-radius: 50%;\n",
              "      cursor: pointer;\n",
              "      display: none;\n",
              "      fill: #1967D2;\n",
              "      height: 32px;\n",
              "      padding: 0 0 0 0;\n",
              "      width: 32px;\n",
              "    }\n",
              "\n",
              "    .colab-df-convert:hover {\n",
              "      background-color: #E2EBFA;\n",
              "      box-shadow: 0px 1px 2px rgba(60, 64, 67, 0.3), 0px 1px 3px 1px rgba(60, 64, 67, 0.15);\n",
              "      fill: #174EA6;\n",
              "    }\n",
              "\n",
              "    .colab-df-buttons div {\n",
              "      margin-bottom: 4px;\n",
              "    }\n",
              "\n",
              "    [theme=dark] .colab-df-convert {\n",
              "      background-color: #3B4455;\n",
              "      fill: #D2E3FC;\n",
              "    }\n",
              "\n",
              "    [theme=dark] .colab-df-convert:hover {\n",
              "      background-color: #434B5C;\n",
              "      box-shadow: 0px 1px 3px 1px rgba(0, 0, 0, 0.15);\n",
              "      filter: drop-shadow(0px 1px 2px rgba(0, 0, 0, 0.3));\n",
              "      fill: #FFFFFF;\n",
              "    }\n",
              "  </style>\n",
              "\n",
              "    <script>\n",
              "      const buttonEl =\n",
              "        document.querySelector('#df-7192e58e-a015-4dac-9d6d-ff86863f313d button.colab-df-convert');\n",
              "      buttonEl.style.display =\n",
              "        google.colab.kernel.accessAllowed ? 'block' : 'none';\n",
              "\n",
              "      async function convertToInteractive(key) {\n",
              "        const element = document.querySelector('#df-7192e58e-a015-4dac-9d6d-ff86863f313d');\n",
              "        const dataTable =\n",
              "          await google.colab.kernel.invokeFunction('convertToInteractive',\n",
              "                                                    [key], {});\n",
              "        if (!dataTable) return;\n",
              "\n",
              "        const docLinkHtml = 'Like what you see? Visit the ' +\n",
              "          '<a target=\"_blank\" href=https://colab.research.google.com/notebooks/data_table.ipynb>data table notebook</a>'\n",
              "          + ' to learn more about interactive tables.';\n",
              "        element.innerHTML = '';\n",
              "        dataTable['output_type'] = 'display_data';\n",
              "        await google.colab.output.renderOutput(dataTable, element);\n",
              "        const docLink = document.createElement('div');\n",
              "        docLink.innerHTML = docLinkHtml;\n",
              "        element.appendChild(docLink);\n",
              "      }\n",
              "    </script>\n",
              "  </div>\n",
              "\n",
              "\n",
              "    </div>\n",
              "  </div>\n"
            ],
            "application/vnd.google.colaboratory.intrinsic+json": {
              "type": "dataframe",
              "repr_error": "Out of range float values are not JSON compliant: nan"
            }
          },
          "metadata": {},
          "execution_count": 237
        }
      ]
    },
    {
      "cell_type": "code",
      "source": [
        "data_clean.info()"
      ],
      "metadata": {
        "colab": {
          "base_uri": "https://localhost:8080/"
        },
        "id": "-JDeYmGjPtrZ",
        "outputId": "0dffa622-980a-4261-923e-85ae534d1d87"
      },
      "execution_count": 238,
      "outputs": [
        {
          "output_type": "stream",
          "name": "stdout",
          "text": [
            "<class 'pandas.core.frame.DataFrame'>\n",
            "Index: 110521 entries, 0 to 110526\n",
            "Data columns (total 18 columns):\n",
            " #   Column               Non-Null Count   Dtype              \n",
            "---  ------               --------------   -----              \n",
            " 0   PatientId            110521 non-null  object             \n",
            " 1   AppointmentID        110521 non-null  object             \n",
            " 2   Gender               110521 non-null  category           \n",
            " 3   ScheduledDay         110521 non-null  datetime64[ns, UTC]\n",
            " 4   AppointmentDay       110521 non-null  datetime64[ns, UTC]\n",
            " 5   Age                  110521 non-null  int64              \n",
            " 6   Neighbourhood        110521 non-null  category           \n",
            " 7   Scholarship          110521 non-null  int64              \n",
            " 8   Hipertension         110521 non-null  int64              \n",
            " 9   Diabetes             110521 non-null  int64              \n",
            " 10  Alcoholism           110521 non-null  int64              \n",
            " 11  Handcap              110521 non-null  int64              \n",
            " 12  SMS_received         110521 non-null  int64              \n",
            " 13  No-show              110521 non-null  category           \n",
            " 14  No.of_Visitings      110521 non-null  int64              \n",
            " 15  ScheduledDay_date    110521 non-null  object             \n",
            " 16  AppointmentDay_date  110521 non-null  object             \n",
            " 17  Schedule_Delay_Days  110521 non-null  int64              \n",
            "dtypes: category(3), datetime64[ns, UTC](2), int64(9), object(4)\n",
            "memory usage: 13.8+ MB\n"
          ]
        }
      ]
    },
    {
      "cell_type": "code",
      "source": [],
      "metadata": {
        "colab": {
          "base_uri": "https://localhost:8080/",
          "height": 635
        },
        "id": "oC7gcV8OGaFR",
        "outputId": "66bc1386-b995-4bde-c516-06a9ba326876"
      },
      "execution_count": 240,
      "outputs": [
        {
          "output_type": "execute_result",
          "data": {
            "text/plain": [
              "                PatientId AppointmentID Gender              ScheduledDay  \\\n",
              "0        29872499824296.0       5642903      F 2016-04-29 18:38:08+00:00   \n",
              "1       558997776694438.0       5642503      M 2016-04-29 16:08:27+00:00   \n",
              "2         4262962299951.0       5642549      F 2016-04-29 16:19:04+00:00   \n",
              "3          867951213174.0       5642828      F 2016-04-29 17:29:31+00:00   \n",
              "4         8841186448183.0       5642494      F 2016-04-29 16:07:23+00:00   \n",
              "...                   ...           ...    ...                       ...   \n",
              "110522    2572134369293.0       5651768      F 2016-05-03 09:15:35+00:00   \n",
              "110523    3596266328735.0       5650093      F 2016-05-03 07:27:33+00:00   \n",
              "110524   15576631729893.0       5630692      F 2016-04-27 16:03:52+00:00   \n",
              "110525   92134931435557.0       5630323      F 2016-04-27 15:09:23+00:00   \n",
              "110526  377511518121127.0       5629448      F 2016-04-27 13:30:56+00:00   \n",
              "\n",
              "                  AppointmentDay  Age      Neighbourhood  Scholarship  \\\n",
              "0      2016-04-29 00:00:00+00:00   62    JARDIM DA PENHA            0   \n",
              "1      2016-04-29 00:00:00+00:00   56    JARDIM DA PENHA            0   \n",
              "2      2016-04-29 00:00:00+00:00   62      MATA DA PRAIA            0   \n",
              "3      2016-04-29 00:00:00+00:00    8  PONTAL DE CAMBURI            0   \n",
              "4      2016-04-29 00:00:00+00:00   56    JARDIM DA PENHA            0   \n",
              "...                          ...  ...                ...          ...   \n",
              "110522 2016-06-07 00:00:00+00:00   56        MARIA ORTIZ            0   \n",
              "110523 2016-06-07 00:00:00+00:00   51        MARIA ORTIZ            0   \n",
              "110524 2016-06-07 00:00:00+00:00   21        MARIA ORTIZ            0   \n",
              "110525 2016-06-07 00:00:00+00:00   38        MARIA ORTIZ            0   \n",
              "110526 2016-06-07 00:00:00+00:00   54        MARIA ORTIZ            0   \n",
              "\n",
              "        Hipertension  Diabetes  Alcoholism  Handcap  SMS_received No-show  \\\n",
              "0                  1         0           0        0             0       0   \n",
              "1                  0         0           0        0             0       0   \n",
              "2                  0         0           0        0             0       0   \n",
              "3                  0         0           0        0             0       0   \n",
              "4                  1         1           0        0             0       0   \n",
              "...              ...       ...         ...      ...           ...     ...   \n",
              "110522             0         0           0        0             1       0   \n",
              "110523             0         0           0        0             1       0   \n",
              "110524             0         0           0        0             1       0   \n",
              "110525             0         0           0        0             1       0   \n",
              "110526             0         0           0        0             1       0   \n",
              "\n",
              "        No.of_Visitings ScheduledDay_date AppointmentDay_date  \\\n",
              "0                     2        2016-04-29          2016-04-29   \n",
              "1                     2        2016-04-29          2016-04-29   \n",
              "2                     2        2016-04-29          2016-04-29   \n",
              "3                     2        2016-04-29          2016-04-29   \n",
              "4                     1        2016-04-29          2016-04-29   \n",
              "...                 ...               ...                 ...   \n",
              "110522                0        2016-05-03          2016-06-07   \n",
              "110523                0        2016-05-03          2016-06-07   \n",
              "110524                1        2016-04-27          2016-06-07   \n",
              "110525                0        2016-04-27          2016-06-07   \n",
              "110526                0        2016-04-27          2016-06-07   \n",
              "\n",
              "        Schedule_Delay_Days  \n",
              "0                         0  \n",
              "1                         0  \n",
              "2                         0  \n",
              "3                         0  \n",
              "4                         0  \n",
              "...                     ...  \n",
              "110522                   35  \n",
              "110523                   35  \n",
              "110524                   41  \n",
              "110525                   41  \n",
              "110526                   41  \n",
              "\n",
              "[110521 rows x 18 columns]"
            ],
            "text/html": [
              "\n",
              "  <div id=\"df-6cfdd9ae-13ef-40c9-a6af-2ae8e49d2921\" class=\"colab-df-container\">\n",
              "    <div>\n",
              "<style scoped>\n",
              "    .dataframe tbody tr th:only-of-type {\n",
              "        vertical-align: middle;\n",
              "    }\n",
              "\n",
              "    .dataframe tbody tr th {\n",
              "        vertical-align: top;\n",
              "    }\n",
              "\n",
              "    .dataframe thead th {\n",
              "        text-align: right;\n",
              "    }\n",
              "</style>\n",
              "<table border=\"1\" class=\"dataframe\">\n",
              "  <thead>\n",
              "    <tr style=\"text-align: right;\">\n",
              "      <th></th>\n",
              "      <th>PatientId</th>\n",
              "      <th>AppointmentID</th>\n",
              "      <th>Gender</th>\n",
              "      <th>ScheduledDay</th>\n",
              "      <th>AppointmentDay</th>\n",
              "      <th>Age</th>\n",
              "      <th>Neighbourhood</th>\n",
              "      <th>Scholarship</th>\n",
              "      <th>Hipertension</th>\n",
              "      <th>Diabetes</th>\n",
              "      <th>Alcoholism</th>\n",
              "      <th>Handcap</th>\n",
              "      <th>SMS_received</th>\n",
              "      <th>No-show</th>\n",
              "      <th>No.of_Visitings</th>\n",
              "      <th>ScheduledDay_date</th>\n",
              "      <th>AppointmentDay_date</th>\n",
              "      <th>Schedule_Delay_Days</th>\n",
              "    </tr>\n",
              "  </thead>\n",
              "  <tbody>\n",
              "    <tr>\n",
              "      <th>0</th>\n",
              "      <td>29872499824296.0</td>\n",
              "      <td>5642903</td>\n",
              "      <td>F</td>\n",
              "      <td>2016-04-29 18:38:08+00:00</td>\n",
              "      <td>2016-04-29 00:00:00+00:00</td>\n",
              "      <td>62</td>\n",
              "      <td>JARDIM DA PENHA</td>\n",
              "      <td>0</td>\n",
              "      <td>1</td>\n",
              "      <td>0</td>\n",
              "      <td>0</td>\n",
              "      <td>0</td>\n",
              "      <td>0</td>\n",
              "      <td>0</td>\n",
              "      <td>2</td>\n",
              "      <td>2016-04-29</td>\n",
              "      <td>2016-04-29</td>\n",
              "      <td>0</td>\n",
              "    </tr>\n",
              "    <tr>\n",
              "      <th>1</th>\n",
              "      <td>558997776694438.0</td>\n",
              "      <td>5642503</td>\n",
              "      <td>M</td>\n",
              "      <td>2016-04-29 16:08:27+00:00</td>\n",
              "      <td>2016-04-29 00:00:00+00:00</td>\n",
              "      <td>56</td>\n",
              "      <td>JARDIM DA PENHA</td>\n",
              "      <td>0</td>\n",
              "      <td>0</td>\n",
              "      <td>0</td>\n",
              "      <td>0</td>\n",
              "      <td>0</td>\n",
              "      <td>0</td>\n",
              "      <td>0</td>\n",
              "      <td>2</td>\n",
              "      <td>2016-04-29</td>\n",
              "      <td>2016-04-29</td>\n",
              "      <td>0</td>\n",
              "    </tr>\n",
              "    <tr>\n",
              "      <th>2</th>\n",
              "      <td>4262962299951.0</td>\n",
              "      <td>5642549</td>\n",
              "      <td>F</td>\n",
              "      <td>2016-04-29 16:19:04+00:00</td>\n",
              "      <td>2016-04-29 00:00:00+00:00</td>\n",
              "      <td>62</td>\n",
              "      <td>MATA DA PRAIA</td>\n",
              "      <td>0</td>\n",
              "      <td>0</td>\n",
              "      <td>0</td>\n",
              "      <td>0</td>\n",
              "      <td>0</td>\n",
              "      <td>0</td>\n",
              "      <td>0</td>\n",
              "      <td>2</td>\n",
              "      <td>2016-04-29</td>\n",
              "      <td>2016-04-29</td>\n",
              "      <td>0</td>\n",
              "    </tr>\n",
              "    <tr>\n",
              "      <th>3</th>\n",
              "      <td>867951213174.0</td>\n",
              "      <td>5642828</td>\n",
              "      <td>F</td>\n",
              "      <td>2016-04-29 17:29:31+00:00</td>\n",
              "      <td>2016-04-29 00:00:00+00:00</td>\n",
              "      <td>8</td>\n",
              "      <td>PONTAL DE CAMBURI</td>\n",
              "      <td>0</td>\n",
              "      <td>0</td>\n",
              "      <td>0</td>\n",
              "      <td>0</td>\n",
              "      <td>0</td>\n",
              "      <td>0</td>\n",
              "      <td>0</td>\n",
              "      <td>2</td>\n",
              "      <td>2016-04-29</td>\n",
              "      <td>2016-04-29</td>\n",
              "      <td>0</td>\n",
              "    </tr>\n",
              "    <tr>\n",
              "      <th>4</th>\n",
              "      <td>8841186448183.0</td>\n",
              "      <td>5642494</td>\n",
              "      <td>F</td>\n",
              "      <td>2016-04-29 16:07:23+00:00</td>\n",
              "      <td>2016-04-29 00:00:00+00:00</td>\n",
              "      <td>56</td>\n",
              "      <td>JARDIM DA PENHA</td>\n",
              "      <td>0</td>\n",
              "      <td>1</td>\n",
              "      <td>1</td>\n",
              "      <td>0</td>\n",
              "      <td>0</td>\n",
              "      <td>0</td>\n",
              "      <td>0</td>\n",
              "      <td>1</td>\n",
              "      <td>2016-04-29</td>\n",
              "      <td>2016-04-29</td>\n",
              "      <td>0</td>\n",
              "    </tr>\n",
              "    <tr>\n",
              "      <th>...</th>\n",
              "      <td>...</td>\n",
              "      <td>...</td>\n",
              "      <td>...</td>\n",
              "      <td>...</td>\n",
              "      <td>...</td>\n",
              "      <td>...</td>\n",
              "      <td>...</td>\n",
              "      <td>...</td>\n",
              "      <td>...</td>\n",
              "      <td>...</td>\n",
              "      <td>...</td>\n",
              "      <td>...</td>\n",
              "      <td>...</td>\n",
              "      <td>...</td>\n",
              "      <td>...</td>\n",
              "      <td>...</td>\n",
              "      <td>...</td>\n",
              "      <td>...</td>\n",
              "    </tr>\n",
              "    <tr>\n",
              "      <th>110522</th>\n",
              "      <td>2572134369293.0</td>\n",
              "      <td>5651768</td>\n",
              "      <td>F</td>\n",
              "      <td>2016-05-03 09:15:35+00:00</td>\n",
              "      <td>2016-06-07 00:00:00+00:00</td>\n",
              "      <td>56</td>\n",
              "      <td>MARIA ORTIZ</td>\n",
              "      <td>0</td>\n",
              "      <td>0</td>\n",
              "      <td>0</td>\n",
              "      <td>0</td>\n",
              "      <td>0</td>\n",
              "      <td>1</td>\n",
              "      <td>0</td>\n",
              "      <td>0</td>\n",
              "      <td>2016-05-03</td>\n",
              "      <td>2016-06-07</td>\n",
              "      <td>35</td>\n",
              "    </tr>\n",
              "    <tr>\n",
              "      <th>110523</th>\n",
              "      <td>3596266328735.0</td>\n",
              "      <td>5650093</td>\n",
              "      <td>F</td>\n",
              "      <td>2016-05-03 07:27:33+00:00</td>\n",
              "      <td>2016-06-07 00:00:00+00:00</td>\n",
              "      <td>51</td>\n",
              "      <td>MARIA ORTIZ</td>\n",
              "      <td>0</td>\n",
              "      <td>0</td>\n",
              "      <td>0</td>\n",
              "      <td>0</td>\n",
              "      <td>0</td>\n",
              "      <td>1</td>\n",
              "      <td>0</td>\n",
              "      <td>0</td>\n",
              "      <td>2016-05-03</td>\n",
              "      <td>2016-06-07</td>\n",
              "      <td>35</td>\n",
              "    </tr>\n",
              "    <tr>\n",
              "      <th>110524</th>\n",
              "      <td>15576631729893.0</td>\n",
              "      <td>5630692</td>\n",
              "      <td>F</td>\n",
              "      <td>2016-04-27 16:03:52+00:00</td>\n",
              "      <td>2016-06-07 00:00:00+00:00</td>\n",
              "      <td>21</td>\n",
              "      <td>MARIA ORTIZ</td>\n",
              "      <td>0</td>\n",
              "      <td>0</td>\n",
              "      <td>0</td>\n",
              "      <td>0</td>\n",
              "      <td>0</td>\n",
              "      <td>1</td>\n",
              "      <td>0</td>\n",
              "      <td>1</td>\n",
              "      <td>2016-04-27</td>\n",
              "      <td>2016-06-07</td>\n",
              "      <td>41</td>\n",
              "    </tr>\n",
              "    <tr>\n",
              "      <th>110525</th>\n",
              "      <td>92134931435557.0</td>\n",
              "      <td>5630323</td>\n",
              "      <td>F</td>\n",
              "      <td>2016-04-27 15:09:23+00:00</td>\n",
              "      <td>2016-06-07 00:00:00+00:00</td>\n",
              "      <td>38</td>\n",
              "      <td>MARIA ORTIZ</td>\n",
              "      <td>0</td>\n",
              "      <td>0</td>\n",
              "      <td>0</td>\n",
              "      <td>0</td>\n",
              "      <td>0</td>\n",
              "      <td>1</td>\n",
              "      <td>0</td>\n",
              "      <td>0</td>\n",
              "      <td>2016-04-27</td>\n",
              "      <td>2016-06-07</td>\n",
              "      <td>41</td>\n",
              "    </tr>\n",
              "    <tr>\n",
              "      <th>110526</th>\n",
              "      <td>377511518121127.0</td>\n",
              "      <td>5629448</td>\n",
              "      <td>F</td>\n",
              "      <td>2016-04-27 13:30:56+00:00</td>\n",
              "      <td>2016-06-07 00:00:00+00:00</td>\n",
              "      <td>54</td>\n",
              "      <td>MARIA ORTIZ</td>\n",
              "      <td>0</td>\n",
              "      <td>0</td>\n",
              "      <td>0</td>\n",
              "      <td>0</td>\n",
              "      <td>0</td>\n",
              "      <td>1</td>\n",
              "      <td>0</td>\n",
              "      <td>0</td>\n",
              "      <td>2016-04-27</td>\n",
              "      <td>2016-06-07</td>\n",
              "      <td>41</td>\n",
              "    </tr>\n",
              "  </tbody>\n",
              "</table>\n",
              "<p>110521 rows × 18 columns</p>\n",
              "</div>\n",
              "    <div class=\"colab-df-buttons\">\n",
              "\n",
              "  <div class=\"colab-df-container\">\n",
              "    <button class=\"colab-df-convert\" onclick=\"convertToInteractive('df-6cfdd9ae-13ef-40c9-a6af-2ae8e49d2921')\"\n",
              "            title=\"Convert this dataframe to an interactive table.\"\n",
              "            style=\"display:none;\">\n",
              "\n",
              "  <svg xmlns=\"http://www.w3.org/2000/svg\" height=\"24px\" viewBox=\"0 -960 960 960\">\n",
              "    <path d=\"M120-120v-720h720v720H120Zm60-500h600v-160H180v160Zm220 220h160v-160H400v160Zm0 220h160v-160H400v160ZM180-400h160v-160H180v160Zm440 0h160v-160H620v160ZM180-180h160v-160H180v160Zm440 0h160v-160H620v160Z\"/>\n",
              "  </svg>\n",
              "    </button>\n",
              "\n",
              "  <style>\n",
              "    .colab-df-container {\n",
              "      display:flex;\n",
              "      gap: 12px;\n",
              "    }\n",
              "\n",
              "    .colab-df-convert {\n",
              "      background-color: #E8F0FE;\n",
              "      border: none;\n",
              "      border-radius: 50%;\n",
              "      cursor: pointer;\n",
              "      display: none;\n",
              "      fill: #1967D2;\n",
              "      height: 32px;\n",
              "      padding: 0 0 0 0;\n",
              "      width: 32px;\n",
              "    }\n",
              "\n",
              "    .colab-df-convert:hover {\n",
              "      background-color: #E2EBFA;\n",
              "      box-shadow: 0px 1px 2px rgba(60, 64, 67, 0.3), 0px 1px 3px 1px rgba(60, 64, 67, 0.15);\n",
              "      fill: #174EA6;\n",
              "    }\n",
              "\n",
              "    .colab-df-buttons div {\n",
              "      margin-bottom: 4px;\n",
              "    }\n",
              "\n",
              "    [theme=dark] .colab-df-convert {\n",
              "      background-color: #3B4455;\n",
              "      fill: #D2E3FC;\n",
              "    }\n",
              "\n",
              "    [theme=dark] .colab-df-convert:hover {\n",
              "      background-color: #434B5C;\n",
              "      box-shadow: 0px 1px 3px 1px rgba(0, 0, 0, 0.15);\n",
              "      filter: drop-shadow(0px 1px 2px rgba(0, 0, 0, 0.3));\n",
              "      fill: #FFFFFF;\n",
              "    }\n",
              "  </style>\n",
              "\n",
              "    <script>\n",
              "      const buttonEl =\n",
              "        document.querySelector('#df-6cfdd9ae-13ef-40c9-a6af-2ae8e49d2921 button.colab-df-convert');\n",
              "      buttonEl.style.display =\n",
              "        google.colab.kernel.accessAllowed ? 'block' : 'none';\n",
              "\n",
              "      async function convertToInteractive(key) {\n",
              "        const element = document.querySelector('#df-6cfdd9ae-13ef-40c9-a6af-2ae8e49d2921');\n",
              "        const dataTable =\n",
              "          await google.colab.kernel.invokeFunction('convertToInteractive',\n",
              "                                                    [key], {});\n",
              "        if (!dataTable) return;\n",
              "\n",
              "        const docLinkHtml = 'Like what you see? Visit the ' +\n",
              "          '<a target=\"_blank\" href=https://colab.research.google.com/notebooks/data_table.ipynb>data table notebook</a>'\n",
              "          + ' to learn more about interactive tables.';\n",
              "        element.innerHTML = '';\n",
              "        dataTable['output_type'] = 'display_data';\n",
              "        await google.colab.output.renderOutput(dataTable, element);\n",
              "        const docLink = document.createElement('div');\n",
              "        docLink.innerHTML = docLinkHtml;\n",
              "        element.appendChild(docLink);\n",
              "      }\n",
              "    </script>\n",
              "  </div>\n",
              "\n",
              "\n",
              "    <div id=\"df-06d67d64-2f0c-400a-bd1a-11371aba244c\">\n",
              "      <button class=\"colab-df-quickchart\" onclick=\"quickchart('df-06d67d64-2f0c-400a-bd1a-11371aba244c')\"\n",
              "                title=\"Suggest charts\"\n",
              "                style=\"display:none;\">\n",
              "\n",
              "<svg xmlns=\"http://www.w3.org/2000/svg\" height=\"24px\"viewBox=\"0 0 24 24\"\n",
              "     width=\"24px\">\n",
              "    <g>\n",
              "        <path d=\"M19 3H5c-1.1 0-2 .9-2 2v14c0 1.1.9 2 2 2h14c1.1 0 2-.9 2-2V5c0-1.1-.9-2-2-2zM9 17H7v-7h2v7zm4 0h-2V7h2v10zm4 0h-2v-4h2v4z\"/>\n",
              "    </g>\n",
              "</svg>\n",
              "      </button>\n",
              "\n",
              "<style>\n",
              "  .colab-df-quickchart {\n",
              "      --bg-color: #E8F0FE;\n",
              "      --fill-color: #1967D2;\n",
              "      --hover-bg-color: #E2EBFA;\n",
              "      --hover-fill-color: #174EA6;\n",
              "      --disabled-fill-color: #AAA;\n",
              "      --disabled-bg-color: #DDD;\n",
              "  }\n",
              "\n",
              "  [theme=dark] .colab-df-quickchart {\n",
              "      --bg-color: #3B4455;\n",
              "      --fill-color: #D2E3FC;\n",
              "      --hover-bg-color: #434B5C;\n",
              "      --hover-fill-color: #FFFFFF;\n",
              "      --disabled-bg-color: #3B4455;\n",
              "      --disabled-fill-color: #666;\n",
              "  }\n",
              "\n",
              "  .colab-df-quickchart {\n",
              "    background-color: var(--bg-color);\n",
              "    border: none;\n",
              "    border-radius: 50%;\n",
              "    cursor: pointer;\n",
              "    display: none;\n",
              "    fill: var(--fill-color);\n",
              "    height: 32px;\n",
              "    padding: 0;\n",
              "    width: 32px;\n",
              "  }\n",
              "\n",
              "  .colab-df-quickchart:hover {\n",
              "    background-color: var(--hover-bg-color);\n",
              "    box-shadow: 0 1px 2px rgba(60, 64, 67, 0.3), 0 1px 3px 1px rgba(60, 64, 67, 0.15);\n",
              "    fill: var(--button-hover-fill-color);\n",
              "  }\n",
              "\n",
              "  .colab-df-quickchart-complete:disabled,\n",
              "  .colab-df-quickchart-complete:disabled:hover {\n",
              "    background-color: var(--disabled-bg-color);\n",
              "    fill: var(--disabled-fill-color);\n",
              "    box-shadow: none;\n",
              "  }\n",
              "\n",
              "  .colab-df-spinner {\n",
              "    border: 2px solid var(--fill-color);\n",
              "    border-color: transparent;\n",
              "    border-bottom-color: var(--fill-color);\n",
              "    animation:\n",
              "      spin 1s steps(1) infinite;\n",
              "  }\n",
              "\n",
              "  @keyframes spin {\n",
              "    0% {\n",
              "      border-color: transparent;\n",
              "      border-bottom-color: var(--fill-color);\n",
              "      border-left-color: var(--fill-color);\n",
              "    }\n",
              "    20% {\n",
              "      border-color: transparent;\n",
              "      border-left-color: var(--fill-color);\n",
              "      border-top-color: var(--fill-color);\n",
              "    }\n",
              "    30% {\n",
              "      border-color: transparent;\n",
              "      border-left-color: var(--fill-color);\n",
              "      border-top-color: var(--fill-color);\n",
              "      border-right-color: var(--fill-color);\n",
              "    }\n",
              "    40% {\n",
              "      border-color: transparent;\n",
              "      border-right-color: var(--fill-color);\n",
              "      border-top-color: var(--fill-color);\n",
              "    }\n",
              "    60% {\n",
              "      border-color: transparent;\n",
              "      border-right-color: var(--fill-color);\n",
              "    }\n",
              "    80% {\n",
              "      border-color: transparent;\n",
              "      border-right-color: var(--fill-color);\n",
              "      border-bottom-color: var(--fill-color);\n",
              "    }\n",
              "    90% {\n",
              "      border-color: transparent;\n",
              "      border-bottom-color: var(--fill-color);\n",
              "    }\n",
              "  }\n",
              "</style>\n",
              "\n",
              "      <script>\n",
              "        async function quickchart(key) {\n",
              "          const quickchartButtonEl =\n",
              "            document.querySelector('#' + key + ' button');\n",
              "          quickchartButtonEl.disabled = true;  // To prevent multiple clicks.\n",
              "          quickchartButtonEl.classList.add('colab-df-spinner');\n",
              "          try {\n",
              "            const charts = await google.colab.kernel.invokeFunction(\n",
              "                'suggestCharts', [key], {});\n",
              "          } catch (error) {\n",
              "            console.error('Error during call to suggestCharts:', error);\n",
              "          }\n",
              "          quickchartButtonEl.classList.remove('colab-df-spinner');\n",
              "          quickchartButtonEl.classList.add('colab-df-quickchart-complete');\n",
              "        }\n",
              "        (() => {\n",
              "          let quickchartButtonEl =\n",
              "            document.querySelector('#df-06d67d64-2f0c-400a-bd1a-11371aba244c button');\n",
              "          quickchartButtonEl.style.display =\n",
              "            google.colab.kernel.accessAllowed ? 'block' : 'none';\n",
              "        })();\n",
              "      </script>\n",
              "    </div>\n",
              "\n",
              "  <div id=\"id_9601edbe-8c1a-41dc-b6e3-f9dd04a5ca0f\">\n",
              "    <style>\n",
              "      .colab-df-generate {\n",
              "        background-color: #E8F0FE;\n",
              "        border: none;\n",
              "        border-radius: 50%;\n",
              "        cursor: pointer;\n",
              "        display: none;\n",
              "        fill: #1967D2;\n",
              "        height: 32px;\n",
              "        padding: 0 0 0 0;\n",
              "        width: 32px;\n",
              "      }\n",
              "\n",
              "      .colab-df-generate:hover {\n",
              "        background-color: #E2EBFA;\n",
              "        box-shadow: 0px 1px 2px rgba(60, 64, 67, 0.3), 0px 1px 3px 1px rgba(60, 64, 67, 0.15);\n",
              "        fill: #174EA6;\n",
              "      }\n",
              "\n",
              "      [theme=dark] .colab-df-generate {\n",
              "        background-color: #3B4455;\n",
              "        fill: #D2E3FC;\n",
              "      }\n",
              "\n",
              "      [theme=dark] .colab-df-generate:hover {\n",
              "        background-color: #434B5C;\n",
              "        box-shadow: 0px 1px 3px 1px rgba(0, 0, 0, 0.15);\n",
              "        filter: drop-shadow(0px 1px 2px rgba(0, 0, 0, 0.3));\n",
              "        fill: #FFFFFF;\n",
              "      }\n",
              "    </style>\n",
              "    <button class=\"colab-df-generate\" onclick=\"generateWithVariable('data_clean')\"\n",
              "            title=\"Generate code using this dataframe.\"\n",
              "            style=\"display:none;\">\n",
              "\n",
              "  <svg xmlns=\"http://www.w3.org/2000/svg\" height=\"24px\"viewBox=\"0 0 24 24\"\n",
              "       width=\"24px\">\n",
              "    <path d=\"M7,19H8.4L18.45,9,17,7.55,7,17.6ZM5,21V16.75L18.45,3.32a2,2,0,0,1,2.83,0l1.4,1.43a1.91,1.91,0,0,1,.58,1.4,1.91,1.91,0,0,1-.58,1.4L9.25,21ZM18.45,9,17,7.55Zm-12,3A5.31,5.31,0,0,0,4.9,8.1,5.31,5.31,0,0,0,1,6.5,5.31,5.31,0,0,0,4.9,4.9,5.31,5.31,0,0,0,6.5,1,5.31,5.31,0,0,0,8.1,4.9,5.31,5.31,0,0,0,12,6.5,5.46,5.46,0,0,0,6.5,12Z\"/>\n",
              "  </svg>\n",
              "    </button>\n",
              "    <script>\n",
              "      (() => {\n",
              "      const buttonEl =\n",
              "        document.querySelector('#id_9601edbe-8c1a-41dc-b6e3-f9dd04a5ca0f button.colab-df-generate');\n",
              "      buttonEl.style.display =\n",
              "        google.colab.kernel.accessAllowed ? 'block' : 'none';\n",
              "\n",
              "      buttonEl.onclick = () => {\n",
              "        google.colab.notebook.generateWithVariable('data_clean');\n",
              "      }\n",
              "      })();\n",
              "    </script>\n",
              "  </div>\n",
              "\n",
              "    </div>\n",
              "  </div>\n"
            ],
            "application/vnd.google.colaboratory.intrinsic+json": {
              "type": "dataframe",
              "variable_name": "data_clean"
            }
          },
          "metadata": {},
          "execution_count": 240
        }
      ]
    },
    {
      "cell_type": "markdown",
      "source": [
        "# Day of the week for appointments (chat help)"
      ],
      "metadata": {
        "id": "qejuGSKYWBLm"
      }
    },
    {
      "cell_type": "code",
      "source": [
        "data_clean['Appointment_DayOfWeek'] = data_clean['AppointmentDay'].dt.day_name()\n",
        "\n"
      ],
      "metadata": {
        "id": "qNiuuFvuXWUo"
      },
      "execution_count": 249,
      "outputs": []
    },
    {
      "cell_type": "code",
      "source": [
        "data_clean['ScheduledDay_DayOfWeek'] = data_clean['ScheduledDay'].dt.day_name()\n"
      ],
      "metadata": {
        "id": "ZB4TlAdJXYg0"
      },
      "execution_count": 250,
      "outputs": []
    },
    {
      "cell_type": "code",
      "source": [
        "data_clean[['Appointment_DayOfWeek','ScheduledDay_DayOfWeek']] = data_clean[['Appointment_DayOfWeek','ScheduledDay_DayOfWeek']].astype('category')\n"
      ],
      "metadata": {
        "id": "5-ooKsKxYjqr"
      },
      "execution_count": 254,
      "outputs": []
    },
    {
      "cell_type": "markdown",
      "source": [
        "# age grouping\n",
        "\n",
        "- chat help\n",
        "\n",
        "Alright, let’s break that code apart carefully so you know exactly what’s happening.\n",
        "\n",
        "---\n",
        "\n",
        "### **1️⃣ The `bins` list**\n",
        "\n",
        "```python\n",
        "bins = [0, 12, 18, 35, 50, 65, 100]\n",
        "```\n",
        "\n",
        "This means:\n",
        "\n",
        "* We’re defining **boundaries** for age ranges.\n",
        "* The values **must be in order** from smallest to largest.\n",
        "* Think of it as \"cut points\" for dividing your data into buckets:\n",
        "\n",
        "  * 0 to 12 years\n",
        "  * 12 to 18 years\n",
        "  * 18 to 35 years\n",
        "  * 35 to 50 years\n",
        "  * 50 to 65 years\n",
        "  * 65 to 100 years\n",
        "\n",
        "---\n",
        "\n",
        "### **2️⃣ The `labels` list**\n",
        "\n",
        "```python\n",
        "labels = ['Child','Teen','Young Adult','Adult','Middle Age','Senior']\n",
        "```\n",
        "\n",
        "* These are **names** for each of the bins.\n",
        "* There must be **one less label** than the number of bin edges.\n",
        "\n",
        "  * Here: 7 bin edges → 6 intervals → 6 labels.\n",
        "\n",
        "---\n",
        "\n",
        "### **3️⃣ `pd.cut()`**\n",
        "\n",
        "```python\n",
        "data_clean['Age_Group'] = pd.cut(data_clean['Age'], bins=bins, labels=labels)\n",
        "```\n",
        "\n",
        "* **`pd.cut()`** takes numeric data and divides it into **intervals** based on your bin edges.\n",
        "* The `labels` parameter lets you assign **human-readable names** to those intervals.\n",
        "* Each value in `\"Age\"` gets looked at, and Pandas decides: \"Which bin does this fall into?\" and assigns the corresponding label.\n",
        "\n",
        "---\n",
        "\n",
        "### **4️⃣ Example in action**\n",
        "\n",
        "Suppose:\n",
        "\n",
        "```python\n",
        "data_clean['Age'] = [5, 17, 28, 40, 55, 80]\n",
        "```\n",
        "\n",
        "After running the code:\n",
        "\n",
        "```\n",
        "Age  →  Age_Group\n",
        "5    →  Child        (0–12)\n",
        "17   →  Teen         (12–18)\n",
        "28   →  Young Adult  (18–35)\n",
        "40   →  Adult        (35–50)\n",
        "55   →  Middle Age   (50–65)\n",
        "80   →  Senior       (65–100)\n",
        "```\n",
        "\n",
        "---\n",
        "\n",
        "### **5️⃣ Why use `pd.cut()` here?**\n",
        "\n",
        "* Makes it easier to **group** data (e.g., compare attendance rates by age group).\n",
        "* Avoids messy plots from having hundreds of unique ages.\n",
        "* Human-friendly categories → easier for your dashboard users to interpret.\n",
        "\n",
        "---\n",
        "\n",
        "If you want, I can also show you how to make this **ordered categorical** so that “Child” comes before “Teen” in your plots instead of being sorted alphabetically. That’s usually important for dashboards. Would you like that?\n"
      ],
      "metadata": {
        "id": "GuxSyocrZ6Yp"
      }
    },
    {
      "cell_type": "code",
      "source": [
        "bins = [-1, 0, 4, 12, 17, 29, 39, 49, 59, 120]\n",
        "labels = ['Newborn', 'Toddler', 'Child', 'Teen', 'Young Adult',\n",
        "          'Adult', 'Middle Age', 'Senior', 'Elderly']\n",
        "data_clean['Age_Group'] = pd.cut(data_clean['Age'], bins=bins, labels=labels)\n"
      ],
      "metadata": {
        "id": "vZ6dhu1VaGSv"
      },
      "execution_count": 271,
      "outputs": []
    },
    {
      "cell_type": "code",
      "source": [
        "data_clean.info()"
      ],
      "metadata": {
        "colab": {
          "base_uri": "https://localhost:8080/"
        },
        "id": "jFJ6N2DSaL0E",
        "outputId": "ea10df05-1e98-4c58-9df2-ed66e8b29dc3"
      },
      "execution_count": 276,
      "outputs": [
        {
          "output_type": "stream",
          "name": "stdout",
          "text": [
            "<class 'pandas.core.frame.DataFrame'>\n",
            "Index: 110521 entries, 0 to 110526\n",
            "Data columns (total 21 columns):\n",
            " #   Column                  Non-Null Count   Dtype              \n",
            "---  ------                  --------------   -----              \n",
            " 0   PatientId               110521 non-null  object             \n",
            " 1   AppointmentID           110521 non-null  object             \n",
            " 2   Gender                  110521 non-null  category           \n",
            " 3   ScheduledDay            110521 non-null  datetime64[ns, UTC]\n",
            " 4   AppointmentDay          110521 non-null  datetime64[ns, UTC]\n",
            " 5   Age                     110521 non-null  int64              \n",
            " 6   Neighbourhood           110521 non-null  category           \n",
            " 7   Scholarship             110521 non-null  int64              \n",
            " 8   Hipertension            110521 non-null  int64              \n",
            " 9   Diabetes                110521 non-null  int64              \n",
            " 10  Alcoholism              110521 non-null  int64              \n",
            " 11  Handcap                 110521 non-null  int64              \n",
            " 12  SMS_received            110521 non-null  int64              \n",
            " 13  No-show                 110521 non-null  category           \n",
            " 14  No.of_Visitings         110521 non-null  int64              \n",
            " 15  ScheduledDay_date       110521 non-null  object             \n",
            " 16  AppointmentDay_date     110521 non-null  object             \n",
            " 17  Schedule_Delay_Days     110521 non-null  int64              \n",
            " 18  Appointment_DayOfWeek   110521 non-null  category           \n",
            " 19  ScheduledDay_DayOfWeek  110521 non-null  category           \n",
            " 20  Age_Group               110521 non-null  category           \n",
            "dtypes: category(6), datetime64[ns, UTC](2), int64(9), object(4)\n",
            "memory usage: 14.1+ MB\n"
          ]
        }
      ]
    },
    {
      "cell_type": "markdown",
      "source": [
        "#chronic conditions"
      ],
      "metadata": {
        "id": "QjKn05UPc3Yq"
      }
    },
    {
      "cell_type": "code",
      "source": [
        "data_clean['Has_Condition'] = (\n",
        "    (data_clean['Hipertension'] + data_clean['Diabetes'] + data_clean['Alcoholism'] + data_clean['Handcap'])\n",
        ").astype(int)\n"
      ],
      "metadata": {
        "id": "WzZ0XwAjc8ml"
      },
      "execution_count": 282,
      "outputs": []
    },
    {
      "cell_type": "code",
      "source": [
        "data_clean['Has_Condition'].value_counts()"
      ],
      "metadata": {
        "colab": {
          "base_uri": "https://localhost:8080/",
          "height": 272
        },
        "id": "mSC0bOXmdWi4",
        "outputId": "01968c71-9e20-48cf-ce6d-8350c370450f"
      },
      "execution_count": 286,
      "outputs": [
        {
          "output_type": "execute_result",
          "data": {
            "text/plain": [
              "Has_Condition\n",
              "0    84111\n",
              "1    18121\n",
              "2     7658\n",
              "3      618\n",
              "4       13\n",
              "Name: count, dtype: int64"
            ],
            "text/html": [
              "<div>\n",
              "<style scoped>\n",
              "    .dataframe tbody tr th:only-of-type {\n",
              "        vertical-align: middle;\n",
              "    }\n",
              "\n",
              "    .dataframe tbody tr th {\n",
              "        vertical-align: top;\n",
              "    }\n",
              "\n",
              "    .dataframe thead th {\n",
              "        text-align: right;\n",
              "    }\n",
              "</style>\n",
              "<table border=\"1\" class=\"dataframe\">\n",
              "  <thead>\n",
              "    <tr style=\"text-align: right;\">\n",
              "      <th></th>\n",
              "      <th>count</th>\n",
              "    </tr>\n",
              "    <tr>\n",
              "      <th>Has_Condition</th>\n",
              "      <th></th>\n",
              "    </tr>\n",
              "  </thead>\n",
              "  <tbody>\n",
              "    <tr>\n",
              "      <th>0</th>\n",
              "      <td>84111</td>\n",
              "    </tr>\n",
              "    <tr>\n",
              "      <th>1</th>\n",
              "      <td>18121</td>\n",
              "    </tr>\n",
              "    <tr>\n",
              "      <th>2</th>\n",
              "      <td>7658</td>\n",
              "    </tr>\n",
              "    <tr>\n",
              "      <th>3</th>\n",
              "      <td>618</td>\n",
              "    </tr>\n",
              "    <tr>\n",
              "      <th>4</th>\n",
              "      <td>13</td>\n",
              "    </tr>\n",
              "  </tbody>\n",
              "</table>\n",
              "</div><br><label><b>dtype:</b> int64</label>"
            ]
          },
          "metadata": {},
          "execution_count": 286
        }
      ]
    },
    {
      "cell_type": "code",
      "source": [
        "data_clean_copy=data_clean.copy()\n"
      ],
      "metadata": {
        "id": "fdM1CQW0eu8c"
      },
      "execution_count": 288,
      "outputs": []
    },
    {
      "cell_type": "code",
      "source": [
        "data_clean_copy=data_clean_copy.to_csv('./clean_data.csv')"
      ],
      "metadata": {
        "id": "v-4jO9wxe24M"
      },
      "execution_count": 289,
      "outputs": []
    }
  ]
}